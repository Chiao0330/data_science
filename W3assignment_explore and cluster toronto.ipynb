{
 "cells": [
  {
   "cell_type": "markdown",
   "metadata": {},
   "source": [
    "# Applied Data Science Capstone\n",
    "## Week 3 Assignment - Explore and Cluster the neighborhoods in Toronto"
   ]
  },
  {
   "cell_type": "code",
   "execution_count": 2,
   "metadata": {},
   "outputs": [],
   "source": [
    "import pandas as pd"
   ]
  },
  {
   "cell_type": "markdown",
   "metadata": {},
   "source": [
    "### Download the data"
   ]
  },
  {
   "cell_type": "code",
   "execution_count": 3,
   "metadata": {},
   "outputs": [
    {
     "name": "stdout",
     "output_type": "stream",
     "text": [
      "3\n"
     ]
    }
   ],
   "source": [
    "url = 'https://en.wikipedia.org/wiki/List_of_postal_codes_of_Canada:_M'\n",
    "dfs = pd.read_html(url)\n",
    "\n",
    "print(len(dfs))"
   ]
  },
  {
   "cell_type": "code",
   "execution_count": 4,
   "metadata": {},
   "outputs": [
    {
     "name": "stdout",
     "output_type": "stream",
     "text": [
      "Postal Code           Borough  \\\n",
      "0           M1A      Not assigned   \n",
      "1           M2A      Not assigned   \n",
      "2           M3A        North York   \n",
      "3           M4A        North York   \n",
      "4           M5A  Downtown Toronto   \n",
      "..          ...               ...   \n",
      "175         M5Z      Not assigned   \n",
      "176         M6Z      Not assigned   \n",
      "177         M7Z      Not assigned   \n",
      "178         M8Z         Etobicoke   \n",
      "179         M9Z      Not assigned   \n",
      "\n",
      "                                         Neighbourhood  \n",
      "0                                         Not assigned  \n",
      "1                                         Not assigned  \n",
      "2                                            Parkwoods  \n",
      "3                                     Victoria Village  \n",
      "4                            Regent Park, Harbourfront  \n",
      "..                                                 ...  \n",
      "175                                       Not assigned  \n",
      "176                                       Not assigned  \n",
      "177                                       Not assigned  \n",
      "178  Mimico NW, The Queensway West, South of Bloor,...  \n",
      "179                                       Not assigned  \n",
      "\n",
      "[180 rows x 3 columns]\n"
     ]
    }
   ],
   "source": [
    "print(dfs[0])"
   ]
  },
  {
   "cell_type": "markdown",
   "metadata": {},
   "source": [
    "### Convert to a dataframe"
   ]
  },
  {
   "cell_type": "code",
   "execution_count": 5,
   "metadata": {},
   "outputs": [
    {
     "data": {
      "text/html": "<div>\n<style scoped>\n    .dataframe tbody tr th:only-of-type {\n        vertical-align: middle;\n    }\n\n    .dataframe tbody tr th {\n        vertical-align: top;\n    }\n\n    .dataframe thead th {\n        text-align: right;\n    }\n</style>\n<table border=\"1\" class=\"dataframe\">\n  <thead>\n    <tr style=\"text-align: right;\">\n      <th></th>\n      <th>Postal Code</th>\n      <th>Borough</th>\n      <th>Neighbourhood</th>\n    </tr>\n  </thead>\n  <tbody>\n    <tr>\n      <th>0</th>\n      <td>M1A</td>\n      <td>Not assigned</td>\n      <td>Not assigned</td>\n    </tr>\n    <tr>\n      <th>1</th>\n      <td>M2A</td>\n      <td>Not assigned</td>\n      <td>Not assigned</td>\n    </tr>\n    <tr>\n      <th>2</th>\n      <td>M3A</td>\n      <td>North York</td>\n      <td>Parkwoods</td>\n    </tr>\n    <tr>\n      <th>3</th>\n      <td>M4A</td>\n      <td>North York</td>\n      <td>Victoria Village</td>\n    </tr>\n    <tr>\n      <th>4</th>\n      <td>M5A</td>\n      <td>Downtown Toronto</td>\n      <td>Regent Park, Harbourfront</td>\n    </tr>\n  </tbody>\n</table>\n</div>",
      "text/plain": "  Postal Code           Borough              Neighbourhood\n0         M1A      Not assigned               Not assigned\n1         M2A      Not assigned               Not assigned\n2         M3A        North York                  Parkwoods\n3         M4A        North York           Victoria Village\n4         M5A  Downtown Toronto  Regent Park, Harbourfront"
     },
     "execution_count": 5,
     "metadata": {},
     "output_type": "execute_result"
    }
   ],
   "source": [
    "# Extract tables\n",
    "dfs = pd.read_html(url)\n",
    "\n",
    "# Get first table                                                                                                           \n",
    "df = dfs[0]\n",
    "\n",
    "# Converting to dataframe\n",
    "dataframe = df[['Postal Code','Borough','Neighbourhood']]\n",
    "df.head()\n"
   ]
  },
  {
   "cell_type": "markdown",
   "metadata": {},
   "source": [
    "### Ignore/remove the Borough=Not assigned"
   ]
  },
  {
   "cell_type": "code",
   "execution_count": 6,
   "metadata": {},
   "outputs": [
    {
     "data": {
      "text/html": "<div>\n<style scoped>\n    .dataframe tbody tr th:only-of-type {\n        vertical-align: middle;\n    }\n\n    .dataframe tbody tr th {\n        vertical-align: top;\n    }\n\n    .dataframe thead th {\n        text-align: right;\n    }\n</style>\n<table border=\"1\" class=\"dataframe\">\n  <thead>\n    <tr style=\"text-align: right;\">\n      <th></th>\n      <th>Postal Code</th>\n      <th>Borough</th>\n      <th>Neighbourhood</th>\n    </tr>\n  </thead>\n  <tbody>\n    <tr>\n      <th>2</th>\n      <td>M3A</td>\n      <td>North York</td>\n      <td>Parkwoods</td>\n    </tr>\n    <tr>\n      <th>3</th>\n      <td>M4A</td>\n      <td>North York</td>\n      <td>Victoria Village</td>\n    </tr>\n    <tr>\n      <th>4</th>\n      <td>M5A</td>\n      <td>Downtown Toronto</td>\n      <td>Regent Park, Harbourfront</td>\n    </tr>\n    <tr>\n      <th>5</th>\n      <td>M6A</td>\n      <td>North York</td>\n      <td>Lawrence Manor, Lawrence Heights</td>\n    </tr>\n    <tr>\n      <th>6</th>\n      <td>M7A</td>\n      <td>Downtown Toronto</td>\n      <td>Queen's Park, Ontario Provincial Government</td>\n    </tr>\n    <tr>\n      <th>8</th>\n      <td>M9A</td>\n      <td>Etobicoke</td>\n      <td>Islington Avenue, Humber Valley Village</td>\n    </tr>\n    <tr>\n      <th>9</th>\n      <td>M1B</td>\n      <td>Scarborough</td>\n      <td>Malvern, Rouge</td>\n    </tr>\n    <tr>\n      <th>11</th>\n      <td>M3B</td>\n      <td>North York</td>\n      <td>Don Mills</td>\n    </tr>\n    <tr>\n      <th>12</th>\n      <td>M4B</td>\n      <td>East York</td>\n      <td>Parkview Hill, Woodbine Gardens</td>\n    </tr>\n    <tr>\n      <th>13</th>\n      <td>M5B</td>\n      <td>Downtown Toronto</td>\n      <td>Garden District, Ryerson</td>\n    </tr>\n  </tbody>\n</table>\n</div>",
      "text/plain": "   Postal Code           Borough                                Neighbourhood\n2          M3A        North York                                    Parkwoods\n3          M4A        North York                             Victoria Village\n4          M5A  Downtown Toronto                    Regent Park, Harbourfront\n5          M6A        North York             Lawrence Manor, Lawrence Heights\n6          M7A  Downtown Toronto  Queen's Park, Ontario Provincial Government\n8          M9A         Etobicoke      Islington Avenue, Humber Valley Village\n9          M1B       Scarborough                               Malvern, Rouge\n11         M3B        North York                                    Don Mills\n12         M4B         East York              Parkview Hill, Woodbine Gardens\n13         M5B  Downtown Toronto                     Garden District, Ryerson"
     },
     "execution_count": 6,
     "metadata": {},
     "output_type": "execute_result"
    }
   ],
   "source": [
    "df=df[df.Borough != 'Not assigned']\n",
    "df.head(10)"
   ]
  },
  {
   "cell_type": "markdown",
   "metadata": {},
   "source": [
    "### Shape"
   ]
  },
  {
   "cell_type": "code",
   "execution_count": 7,
   "metadata": {},
   "outputs": [
    {
     "data": {
      "text/plain": "(103, 3)"
     },
     "execution_count": 7,
     "metadata": {},
     "output_type": "execute_result"
    }
   ],
   "source": [
    "df.shape"
   ]
  },
  {
   "cell_type": "markdown",
   "metadata": {},
   "source": [
    "## Add Latitude and Longitude to the dataframe"
   ]
  },
  {
   "cell_type": "code",
   "execution_count": 8,
   "metadata": {},
   "outputs": [
    {
     "name": "stdout",
     "output_type": "stream",
     "text": [
      "Requirement already satisfied: geocoder in /opt/miniconda3/envs/myenv/lib/python3.7/site-packages (1.38.1)\n",
      "Requirement already satisfied: ratelim in /opt/miniconda3/envs/myenv/lib/python3.7/site-packages (from geocoder) (0.1.6)\n",
      "Requirement already satisfied: click in /opt/miniconda3/envs/myenv/lib/python3.7/site-packages (from geocoder) (7.1.2)\n",
      "Requirement already satisfied: requests in /opt/miniconda3/envs/myenv/lib/python3.7/site-packages (from geocoder) (2.25.0)\n",
      "Requirement already satisfied: six in /opt/miniconda3/envs/myenv/lib/python3.7/site-packages (from geocoder) (1.15.0)\n",
      "Requirement already satisfied: future in /opt/miniconda3/envs/myenv/lib/python3.7/site-packages (from geocoder) (0.18.2)\n",
      "Requirement already satisfied: decorator in /opt/miniconda3/envs/myenv/lib/python3.7/site-packages (from ratelim->geocoder) (4.4.2)\n",
      "Requirement already satisfied: certifi>=2017.4.17 in /opt/miniconda3/envs/myenv/lib/python3.7/site-packages (from requests->geocoder) (2020.12.5)\n",
      "Requirement already satisfied: idna<3,>=2.5 in /opt/miniconda3/envs/myenv/lib/python3.7/site-packages (from requests->geocoder) (2.10)\n",
      "Requirement already satisfied: urllib3<1.27,>=1.21.1 in /opt/miniconda3/envs/myenv/lib/python3.7/site-packages (from requests->geocoder) (1.25.11)\n",
      "Requirement already satisfied: chardet<4,>=3.0.2 in /opt/miniconda3/envs/myenv/lib/python3.7/site-packages (from requests->geocoder) (3.0.4)\n"
     ]
    }
   ],
   "source": [
    "!pip3 install geocoder"
   ]
  },
  {
   "cell_type": "code",
   "execution_count": 9,
   "metadata": {},
   "outputs": [],
   "source": [
    "import geocoder"
   ]
  },
  {
   "cell_type": "markdown",
   "metadata": {},
   "source": [
    "### Find Latitude and Longitude"
   ]
  },
  {
   "cell_type": "code",
   "execution_count": 10,
   "metadata": {},
   "outputs": [
    {
     "name": "stdout",
     "output_type": "stream",
     "text": [
      "M3A [43.75245000000007, -79.32990999999998]\n",
      "M4A [43.73057000000006, -79.31305999999995]\n",
      "M5A [43.65512000000007, -79.36263999999994]\n",
      "M6A [43.72327000000007, -79.45041999999995]\n",
      "M7A [43.66253000000006, -79.39187999999996]\n",
      "M9A [43.662630000000036, -79.52830999999998]\n",
      "M1B [43.811390000000074, -79.19661999999994]\n",
      "M3B [43.74923000000007, -79.36185999999998]\n",
      "M4B [43.70718000000005, -79.31191999999999]\n",
      "M5B [43.65739000000008, -79.37803999999994]\n",
      "M6B [43.70687000000004, -79.44811999999996]\n",
      "M9B [43.65034000000003, -79.55361999999997]\n",
      "M1C [43.78574000000003, -79.15874999999994]\n",
      "M3C [43.72168000000005, -79.34351999999996]\n",
      "M4C [43.68970000000007, -79.30681999999996]\n",
      "M5C [43.65215000000006, -79.37586999999996]\n",
      "M6C [43.69211000000007, -79.43035999999995]\n",
      "M9C [43.64857000000006, -79.57824999999997]\n",
      "M1E [43.765750000000025, -79.17469999999997]\n",
      "M4E [43.67709000000008, -79.29546999999997]\n",
      "M5E [43.64536000000004, -79.37305999999995]\n",
      "M6E [43.68784000000005, -79.45045999999996]\n",
      "M1G [43.76812000000007, -79.21760999999998]\n",
      "M4G [43.709020000000066, -79.36348999999996]\n",
      "M5G [43.65609000000006, -79.38492999999994]\n",
      "M6G [43.668690000000026, -79.42070999999999]\n",
      "M1H [43.76944000000003, -79.23891999999995]\n",
      "M2H [43.80225000000007, -79.35557999999997]\n",
      "M3H [43.75788000000006, -79.44846999999999]\n",
      "M4H [43.70142000000004, -79.34904999999998]\n",
      "M5H [43.64970000000005, -79.38257999999996]\n",
      "M6H [43.665050000000065, -79.43890999999996]\n",
      "M1J [43.74446000000006, -79.23116999999996]\n",
      "M2J [43.780970000000025, -79.34780999999998]\n",
      "M3J [43.76476000000008, -79.48797999999994]\n",
      "M4J [43.68811000000005, -79.33417999999995]\n",
      "M5J [43.64285000000007, -79.38075999999995]\n",
      "M6J [43.64848000000006, -79.41773999999998]\n",
      "M1K [43.725820000000056, -79.26460999999995]\n",
      "M2K [43.781120000000044, -79.38059999999996]\n",
      "M3K [43.73384000000004, -79.46827999999994]\n",
      "M4K [43.68375000000003, -79.35511999999994]\n",
      "M5K [43.64710000000008, -79.38152999999994]\n",
      "M6K [43.639410000000055, -79.42675999999994]\n",
      "M1L [43.71289000000007, -79.28505999999999]\n",
      "M2L [43.756980000000055, -79.38059999999996]\n",
      "M3L [43.720710000000054, -79.51700999999997]\n",
      "M4L [43.667970000000025, -79.31466999999998]\n",
      "M5L [43.64840000000004, -79.37913999999995]\n",
      "M6L [43.71381000000008, -79.48873999999995]\n",
      "M9L [43.75948000000005, -79.55706999999995]\n",
      "M1M [43.72360000000003, -79.23495999999994]\n",
      "M2M [43.79182000000003, -79.41371999999996]\n",
      "M3M [43.73224000000005, -79.50177999999994]\n",
      "M4M [43.66213000000005, -79.33496999999994]\n",
      "M5M [43.73545000000007, -79.41915999999998]\n",
      "M6M [43.695170000000076, -79.48396999999994]\n",
      "M9M [43.733670000000075, -79.53768999999994]\n",
      "M1N [43.695100000000025, -79.26465999999994]\n",
      "M2N [43.76774000000006, -79.40727999999996]\n",
      "M3N [43.75478000000004, -79.51958999999994]\n",
      "M4N [43.72843000000006, -79.38712999999996]\n",
      "M5N [43.71208000000007, -79.41847999999999]\n",
      "M6N [43.67646000000008, -79.48271999999997]\n",
      "M9N [43.705070000000035, -79.51803999999998]\n",
      "M1P [43.75998000000004, -79.26939999999996]\n",
      "M2P [43.747780000000034, -79.40032999999994]\n",
      "M4P [43.71276000000006, -79.38850999999994]\n",
      "M5P [43.69479000000007, -79.41439999999994]\n",
      "M6P [43.659730000000025, -79.46280999999993]\n",
      "M9P [43.696300000000065, -79.52925999999997]\n",
      "M1R [43.75075000000004, -79.30053999999996]\n",
      "M2R [43.77989000000008, -79.44677999999999]\n",
      "M4R [43.71458000000007, -79.40667999999994]\n",
      "M5R [43.674840000000074, -79.40451999999993]\n",
      "M6R [43.64777000000004, -79.44988999999998]\n",
      "M7R [43.648690000000045, -79.38543999999996]\n",
      "M9R [43.68681000000004, -79.55727999999993]\n",
      "M1S [43.794520000000034, -79.26707999999996]\n",
      "M4S [43.703400000000045, -79.38658999999996]\n",
      "M5S [43.663110000000074, -79.40179999999998]\n",
      "M6S [43.649820000000034, -79.47547999999995]\n",
      "M1T [43.784910000000025, -79.29721999999998]\n",
      "M4T [43.690480000000036, -79.38317999999998]\n",
      "M5T [43.65351000000004, -79.39721999999995]\n",
      "M1V [43.817810000000065, -79.28043999999994]\n",
      "M4V [43.68568000000005, -79.40236999999996]\n",
      "M5V [43.640820000000076, -79.39817999999997]\n",
      "M8V [43.60987000000006, -79.49808999999993]\n",
      "M9V [43.744530000000054, -79.58623999999998]\n",
      "M1W [43.80079000000006, -79.32161999999994]\n",
      "M4W [43.68190000000004, -79.37828999999994]\n",
      "M5W [43.648690000000045, -79.38543999999996]\n",
      "M8W [43.601240000000075, -79.53878999999995]\n",
      "M9W [43.71174000000008, -79.57940999999994]\n",
      "M1X [43.83412000000004, -79.21667999999994]\n",
      "M4X [43.667880000000025, -79.36648999999994]\n",
      "M5X [43.64828000000006, -79.38145999999995]\n",
      "M8X [43.65319000000005, -79.51112999999998]\n",
      "M4Y [43.66659000000004, -79.38132999999993]\n",
      "M7Y [43.648690000000045, -79.38543999999996]\n",
      "M8Y [43.632780000000025, -79.48944999999998]\n",
      "M8Z [43.62513000000007, -79.52680999999995]\n"
     ]
    }
   ],
   "source": [
    "latitude=[]\n",
    "longitude=[]\n",
    "for code in df['Postal Code']:\n",
    "    g = geocoder.arcgis('{}, Toronto, Ontario'.format(code))\n",
    "    print(code, g.latlng)\n",
    "    while (g.latlng is None):\n",
    "        g = geocoder.arcgis('{}, Toronto, Ontario'.format(code))\n",
    "        print(code, g.latlng)\n",
    "    latlng = g.latlng\n",
    "    latitude.append(latlng[0])\n",
    "    longitude.append(latlng[1])"
   ]
  },
  {
   "cell_type": "markdown",
   "metadata": {},
   "source": [
    "### Add Latitude and Longitude to the existing dataframe"
   ]
  },
  {
   "cell_type": "code",
   "execution_count": 11,
   "metadata": {},
   "outputs": [
    {
     "data": {
      "text/html": "<div>\n<style scoped>\n    .dataframe tbody tr th:only-of-type {\n        vertical-align: middle;\n    }\n\n    .dataframe tbody tr th {\n        vertical-align: top;\n    }\n\n    .dataframe thead th {\n        text-align: right;\n    }\n</style>\n<table border=\"1\" class=\"dataframe\">\n  <thead>\n    <tr style=\"text-align: right;\">\n      <th></th>\n      <th>Postal Code</th>\n      <th>Borough</th>\n      <th>Neighbourhood</th>\n      <th>latitude</th>\n      <th>longitude</th>\n    </tr>\n  </thead>\n  <tbody>\n    <tr>\n      <th>2</th>\n      <td>M3A</td>\n      <td>North York</td>\n      <td>Parkwoods</td>\n      <td>43.75245</td>\n      <td>-79.32991</td>\n    </tr>\n    <tr>\n      <th>3</th>\n      <td>M4A</td>\n      <td>North York</td>\n      <td>Victoria Village</td>\n      <td>43.73057</td>\n      <td>-79.31306</td>\n    </tr>\n    <tr>\n      <th>4</th>\n      <td>M5A</td>\n      <td>Downtown Toronto</td>\n      <td>Regent Park, Harbourfront</td>\n      <td>43.65512</td>\n      <td>-79.36264</td>\n    </tr>\n    <tr>\n      <th>5</th>\n      <td>M6A</td>\n      <td>North York</td>\n      <td>Lawrence Manor, Lawrence Heights</td>\n      <td>43.72327</td>\n      <td>-79.45042</td>\n    </tr>\n    <tr>\n      <th>6</th>\n      <td>M7A</td>\n      <td>Downtown Toronto</td>\n      <td>Queen's Park, Ontario Provincial Government</td>\n      <td>43.66253</td>\n      <td>-79.39188</td>\n    </tr>\n    <tr>\n      <th>...</th>\n      <td>...</td>\n      <td>...</td>\n      <td>...</td>\n      <td>...</td>\n      <td>...</td>\n    </tr>\n    <tr>\n      <th>160</th>\n      <td>M8X</td>\n      <td>Etobicoke</td>\n      <td>The Kingsway, Montgomery Road, Old Mill North</td>\n      <td>43.65319</td>\n      <td>-79.51113</td>\n    </tr>\n    <tr>\n      <th>165</th>\n      <td>M4Y</td>\n      <td>Downtown Toronto</td>\n      <td>Church and Wellesley</td>\n      <td>43.66659</td>\n      <td>-79.38133</td>\n    </tr>\n    <tr>\n      <th>168</th>\n      <td>M7Y</td>\n      <td>East Toronto</td>\n      <td>Business reply mail Processing Centre, South C...</td>\n      <td>43.64869</td>\n      <td>-79.38544</td>\n    </tr>\n    <tr>\n      <th>169</th>\n      <td>M8Y</td>\n      <td>Etobicoke</td>\n      <td>Old Mill South, King's Mill Park, Sunnylea, Hu...</td>\n      <td>43.63278</td>\n      <td>-79.48945</td>\n    </tr>\n    <tr>\n      <th>178</th>\n      <td>M8Z</td>\n      <td>Etobicoke</td>\n      <td>Mimico NW, The Queensway West, South of Bloor,...</td>\n      <td>43.62513</td>\n      <td>-79.52681</td>\n    </tr>\n  </tbody>\n</table>\n<p>103 rows × 5 columns</p>\n</div>",
      "text/plain": "    Postal Code           Borough  \\\n2           M3A        North York   \n3           M4A        North York   \n4           M5A  Downtown Toronto   \n5           M6A        North York   \n6           M7A  Downtown Toronto   \n..          ...               ...   \n160         M8X         Etobicoke   \n165         M4Y  Downtown Toronto   \n168         M7Y      East Toronto   \n169         M8Y         Etobicoke   \n178         M8Z         Etobicoke   \n\n                                         Neighbourhood  latitude  longitude  \n2                                            Parkwoods  43.75245  -79.32991  \n3                                     Victoria Village  43.73057  -79.31306  \n4                            Regent Park, Harbourfront  43.65512  -79.36264  \n5                     Lawrence Manor, Lawrence Heights  43.72327  -79.45042  \n6          Queen's Park, Ontario Provincial Government  43.66253  -79.39188  \n..                                                 ...       ...        ...  \n160      The Kingsway, Montgomery Road, Old Mill North  43.65319  -79.51113  \n165                               Church and Wellesley  43.66659  -79.38133  \n168  Business reply mail Processing Centre, South C...  43.64869  -79.38544  \n169  Old Mill South, King's Mill Park, Sunnylea, Hu...  43.63278  -79.48945  \n178  Mimico NW, The Queensway West, South of Bloor,...  43.62513  -79.52681  \n\n[103 rows x 5 columns]"
     },
     "execution_count": 11,
     "metadata": {},
     "output_type": "execute_result"
    }
   ],
   "source": [
    "df['latitude'] = latitude\n",
    "df['longitude'] = longitude\n",
    "df"
   ]
  },
  {
   "cell_type": "markdown",
   "metadata": {},
   "source": [
    "## Explore and Cluster Toronto\n",
    "### Select Toronto"
   ]
  },
  {
   "cell_type": "code",
   "execution_count": 12,
   "metadata": {},
   "outputs": [],
   "source": [
    "import folium"
   ]
  },
  {
   "cell_type": "code",
   "execution_count": 13,
   "metadata": {},
   "outputs": [
    {
     "data": {
      "text/html": "<div>\n<style scoped>\n    .dataframe tbody tr th:only-of-type {\n        vertical-align: middle;\n    }\n\n    .dataframe tbody tr th {\n        vertical-align: top;\n    }\n\n    .dataframe thead th {\n        text-align: right;\n    }\n</style>\n<table border=\"1\" class=\"dataframe\">\n  <thead>\n    <tr style=\"text-align: right;\">\n      <th></th>\n      <th>Postal Code</th>\n      <th>Borough</th>\n      <th>Neighbourhood</th>\n      <th>latitude</th>\n      <th>longitude</th>\n    </tr>\n  </thead>\n  <tbody>\n    <tr>\n      <th>4</th>\n      <td>M5A</td>\n      <td>Downtown Toronto</td>\n      <td>Regent Park, Harbourfront</td>\n      <td>43.65512</td>\n      <td>-79.36264</td>\n    </tr>\n    <tr>\n      <th>6</th>\n      <td>M7A</td>\n      <td>Downtown Toronto</td>\n      <td>Queen's Park, Ontario Provincial Government</td>\n      <td>43.66253</td>\n      <td>-79.39188</td>\n    </tr>\n    <tr>\n      <th>13</th>\n      <td>M5B</td>\n      <td>Downtown Toronto</td>\n      <td>Garden District, Ryerson</td>\n      <td>43.65739</td>\n      <td>-79.37804</td>\n    </tr>\n    <tr>\n      <th>22</th>\n      <td>M5C</td>\n      <td>Downtown Toronto</td>\n      <td>St. James Town</td>\n      <td>43.65215</td>\n      <td>-79.37587</td>\n    </tr>\n    <tr>\n      <th>30</th>\n      <td>M4E</td>\n      <td>East Toronto</td>\n      <td>The Beaches</td>\n      <td>43.67709</td>\n      <td>-79.29547</td>\n    </tr>\n    <tr>\n      <th>31</th>\n      <td>M5E</td>\n      <td>Downtown Toronto</td>\n      <td>Berczy Park</td>\n      <td>43.64536</td>\n      <td>-79.37306</td>\n    </tr>\n    <tr>\n      <th>40</th>\n      <td>M5G</td>\n      <td>Downtown Toronto</td>\n      <td>Central Bay Street</td>\n      <td>43.65609</td>\n      <td>-79.38493</td>\n    </tr>\n    <tr>\n      <th>41</th>\n      <td>M6G</td>\n      <td>Downtown Toronto</td>\n      <td>Christie</td>\n      <td>43.66869</td>\n      <td>-79.42071</td>\n    </tr>\n    <tr>\n      <th>49</th>\n      <td>M5H</td>\n      <td>Downtown Toronto</td>\n      <td>Richmond, Adelaide, King</td>\n      <td>43.64970</td>\n      <td>-79.38258</td>\n    </tr>\n    <tr>\n      <th>50</th>\n      <td>M6H</td>\n      <td>West Toronto</td>\n      <td>Dufferin, Dovercourt Village</td>\n      <td>43.66505</td>\n      <td>-79.43891</td>\n    </tr>\n    <tr>\n      <th>58</th>\n      <td>M5J</td>\n      <td>Downtown Toronto</td>\n      <td>Harbourfront East, Union Station, Toronto Islands</td>\n      <td>43.64285</td>\n      <td>-79.38076</td>\n    </tr>\n    <tr>\n      <th>59</th>\n      <td>M6J</td>\n      <td>West Toronto</td>\n      <td>Little Portugal, Trinity</td>\n      <td>43.64848</td>\n      <td>-79.41774</td>\n    </tr>\n    <tr>\n      <th>66</th>\n      <td>M4K</td>\n      <td>East Toronto</td>\n      <td>The Danforth West, Riverdale</td>\n      <td>43.68375</td>\n      <td>-79.35512</td>\n    </tr>\n    <tr>\n      <th>67</th>\n      <td>M5K</td>\n      <td>Downtown Toronto</td>\n      <td>Toronto Dominion Centre, Design Exchange</td>\n      <td>43.64710</td>\n      <td>-79.38153</td>\n    </tr>\n    <tr>\n      <th>68</th>\n      <td>M6K</td>\n      <td>West Toronto</td>\n      <td>Brockton, Parkdale Village, Exhibition Place</td>\n      <td>43.63941</td>\n      <td>-79.42676</td>\n    </tr>\n    <tr>\n      <th>75</th>\n      <td>M4L</td>\n      <td>East Toronto</td>\n      <td>India Bazaar, The Beaches West</td>\n      <td>43.66797</td>\n      <td>-79.31467</td>\n    </tr>\n    <tr>\n      <th>76</th>\n      <td>M5L</td>\n      <td>Downtown Toronto</td>\n      <td>Commerce Court, Victoria Hotel</td>\n      <td>43.64840</td>\n      <td>-79.37914</td>\n    </tr>\n    <tr>\n      <th>84</th>\n      <td>M4M</td>\n      <td>East Toronto</td>\n      <td>Studio District</td>\n      <td>43.66213</td>\n      <td>-79.33497</td>\n    </tr>\n    <tr>\n      <th>93</th>\n      <td>M4N</td>\n      <td>Central Toronto</td>\n      <td>Lawrence Park</td>\n      <td>43.72843</td>\n      <td>-79.38713</td>\n    </tr>\n    <tr>\n      <th>94</th>\n      <td>M5N</td>\n      <td>Central Toronto</td>\n      <td>Roselawn</td>\n      <td>43.71208</td>\n      <td>-79.41848</td>\n    </tr>\n    <tr>\n      <th>102</th>\n      <td>M4P</td>\n      <td>Central Toronto</td>\n      <td>Davisville North</td>\n      <td>43.71276</td>\n      <td>-79.38851</td>\n    </tr>\n    <tr>\n      <th>103</th>\n      <td>M5P</td>\n      <td>Central Toronto</td>\n      <td>Forest Hill North &amp; West, Forest Hill Road Park</td>\n      <td>43.69479</td>\n      <td>-79.41440</td>\n    </tr>\n    <tr>\n      <th>104</th>\n      <td>M6P</td>\n      <td>West Toronto</td>\n      <td>High Park, The Junction South</td>\n      <td>43.65973</td>\n      <td>-79.46281</td>\n    </tr>\n    <tr>\n      <th>111</th>\n      <td>M4R</td>\n      <td>Central Toronto</td>\n      <td>North Toronto West, Lawrence Park</td>\n      <td>43.71458</td>\n      <td>-79.40668</td>\n    </tr>\n    <tr>\n      <th>112</th>\n      <td>M5R</td>\n      <td>Central Toronto</td>\n      <td>The Annex, North Midtown, Yorkville</td>\n      <td>43.67484</td>\n      <td>-79.40452</td>\n    </tr>\n    <tr>\n      <th>113</th>\n      <td>M6R</td>\n      <td>West Toronto</td>\n      <td>Parkdale, Roncesvalles</td>\n      <td>43.64777</td>\n      <td>-79.44989</td>\n    </tr>\n    <tr>\n      <th>120</th>\n      <td>M4S</td>\n      <td>Central Toronto</td>\n      <td>Davisville</td>\n      <td>43.70340</td>\n      <td>-79.38659</td>\n    </tr>\n    <tr>\n      <th>121</th>\n      <td>M5S</td>\n      <td>Downtown Toronto</td>\n      <td>University of Toronto, Harbord</td>\n      <td>43.66311</td>\n      <td>-79.40180</td>\n    </tr>\n    <tr>\n      <th>122</th>\n      <td>M6S</td>\n      <td>West Toronto</td>\n      <td>Runnymede, Swansea</td>\n      <td>43.64982</td>\n      <td>-79.47548</td>\n    </tr>\n    <tr>\n      <th>129</th>\n      <td>M4T</td>\n      <td>Central Toronto</td>\n      <td>Moore Park, Summerhill East</td>\n      <td>43.69048</td>\n      <td>-79.38318</td>\n    </tr>\n    <tr>\n      <th>130</th>\n      <td>M5T</td>\n      <td>Downtown Toronto</td>\n      <td>Kensington Market, Chinatown, Grange Park</td>\n      <td>43.65351</td>\n      <td>-79.39722</td>\n    </tr>\n    <tr>\n      <th>138</th>\n      <td>M4V</td>\n      <td>Central Toronto</td>\n      <td>Summerhill West, Rathnelly, South Hill, Forest...</td>\n      <td>43.68568</td>\n      <td>-79.40237</td>\n    </tr>\n    <tr>\n      <th>139</th>\n      <td>M5V</td>\n      <td>Downtown Toronto</td>\n      <td>CN Tower, King and Spadina, Railway Lands, Har...</td>\n      <td>43.64082</td>\n      <td>-79.39818</td>\n    </tr>\n    <tr>\n      <th>147</th>\n      <td>M4W</td>\n      <td>Downtown Toronto</td>\n      <td>Rosedale</td>\n      <td>43.68190</td>\n      <td>-79.37829</td>\n    </tr>\n    <tr>\n      <th>148</th>\n      <td>M5W</td>\n      <td>Downtown Toronto</td>\n      <td>Stn A PO Boxes</td>\n      <td>43.64869</td>\n      <td>-79.38544</td>\n    </tr>\n    <tr>\n      <th>156</th>\n      <td>M4X</td>\n      <td>Downtown Toronto</td>\n      <td>St. James Town, Cabbagetown</td>\n      <td>43.66788</td>\n      <td>-79.36649</td>\n    </tr>\n    <tr>\n      <th>157</th>\n      <td>M5X</td>\n      <td>Downtown Toronto</td>\n      <td>First Canadian Place, Underground city</td>\n      <td>43.64828</td>\n      <td>-79.38146</td>\n    </tr>\n    <tr>\n      <th>165</th>\n      <td>M4Y</td>\n      <td>Downtown Toronto</td>\n      <td>Church and Wellesley</td>\n      <td>43.66659</td>\n      <td>-79.38133</td>\n    </tr>\n    <tr>\n      <th>168</th>\n      <td>M7Y</td>\n      <td>East Toronto</td>\n      <td>Business reply mail Processing Centre, South C...</td>\n      <td>43.64869</td>\n      <td>-79.38544</td>\n    </tr>\n  </tbody>\n</table>\n</div>",
      "text/plain": "    Postal Code           Borough  \\\n4           M5A  Downtown Toronto   \n6           M7A  Downtown Toronto   \n13          M5B  Downtown Toronto   \n22          M5C  Downtown Toronto   \n30          M4E      East Toronto   \n31          M5E  Downtown Toronto   \n40          M5G  Downtown Toronto   \n41          M6G  Downtown Toronto   \n49          M5H  Downtown Toronto   \n50          M6H      West Toronto   \n58          M5J  Downtown Toronto   \n59          M6J      West Toronto   \n66          M4K      East Toronto   \n67          M5K  Downtown Toronto   \n68          M6K      West Toronto   \n75          M4L      East Toronto   \n76          M5L  Downtown Toronto   \n84          M4M      East Toronto   \n93          M4N   Central Toronto   \n94          M5N   Central Toronto   \n102         M4P   Central Toronto   \n103         M5P   Central Toronto   \n104         M6P      West Toronto   \n111         M4R   Central Toronto   \n112         M5R   Central Toronto   \n113         M6R      West Toronto   \n120         M4S   Central Toronto   \n121         M5S  Downtown Toronto   \n122         M6S      West Toronto   \n129         M4T   Central Toronto   \n130         M5T  Downtown Toronto   \n138         M4V   Central Toronto   \n139         M5V  Downtown Toronto   \n147         M4W  Downtown Toronto   \n148         M5W  Downtown Toronto   \n156         M4X  Downtown Toronto   \n157         M5X  Downtown Toronto   \n165         M4Y  Downtown Toronto   \n168         M7Y      East Toronto   \n\n                                         Neighbourhood  latitude  longitude  \n4                            Regent Park, Harbourfront  43.65512  -79.36264  \n6          Queen's Park, Ontario Provincial Government  43.66253  -79.39188  \n13                            Garden District, Ryerson  43.65739  -79.37804  \n22                                      St. James Town  43.65215  -79.37587  \n30                                         The Beaches  43.67709  -79.29547  \n31                                         Berczy Park  43.64536  -79.37306  \n40                                  Central Bay Street  43.65609  -79.38493  \n41                                            Christie  43.66869  -79.42071  \n49                            Richmond, Adelaide, King  43.64970  -79.38258  \n50                        Dufferin, Dovercourt Village  43.66505  -79.43891  \n58   Harbourfront East, Union Station, Toronto Islands  43.64285  -79.38076  \n59                            Little Portugal, Trinity  43.64848  -79.41774  \n66                        The Danforth West, Riverdale  43.68375  -79.35512  \n67            Toronto Dominion Centre, Design Exchange  43.64710  -79.38153  \n68        Brockton, Parkdale Village, Exhibition Place  43.63941  -79.42676  \n75                      India Bazaar, The Beaches West  43.66797  -79.31467  \n76                      Commerce Court, Victoria Hotel  43.64840  -79.37914  \n84                                     Studio District  43.66213  -79.33497  \n93                                       Lawrence Park  43.72843  -79.38713  \n94                                            Roselawn  43.71208  -79.41848  \n102                                   Davisville North  43.71276  -79.38851  \n103    Forest Hill North & West, Forest Hill Road Park  43.69479  -79.41440  \n104                      High Park, The Junction South  43.65973  -79.46281  \n111                  North Toronto West, Lawrence Park  43.71458  -79.40668  \n112                The Annex, North Midtown, Yorkville  43.67484  -79.40452  \n113                             Parkdale, Roncesvalles  43.64777  -79.44989  \n120                                         Davisville  43.70340  -79.38659  \n121                     University of Toronto, Harbord  43.66311  -79.40180  \n122                                 Runnymede, Swansea  43.64982  -79.47548  \n129                        Moore Park, Summerhill East  43.69048  -79.38318  \n130          Kensington Market, Chinatown, Grange Park  43.65351  -79.39722  \n138  Summerhill West, Rathnelly, South Hill, Forest...  43.68568  -79.40237  \n139  CN Tower, King and Spadina, Railway Lands, Har...  43.64082  -79.39818  \n147                                           Rosedale  43.68190  -79.37829  \n148                                     Stn A PO Boxes  43.64869  -79.38544  \n156                        St. James Town, Cabbagetown  43.66788  -79.36649  \n157             First Canadian Place, Underground city  43.64828  -79.38146  \n165                               Church and Wellesley  43.66659  -79.38133  \n168  Business reply mail Processing Centre, South C...  43.64869  -79.38544  "
     },
     "execution_count": 13,
     "metadata": {},
     "output_type": "execute_result"
    }
   ],
   "source": [
    "toronto_df = df[df['Borough'].str.contains('Toronto')]\n",
    "toronto_df"
   ]
  },
  {
   "cell_type": "markdown",
   "metadata": {},
   "source": [
    "### Shape"
   ]
  },
  {
   "cell_type": "code",
   "execution_count": 14,
   "metadata": {},
   "outputs": [
    {
     "data": {
      "text/plain": "(39, 5)"
     },
     "execution_count": 14,
     "metadata": {},
     "output_type": "execute_result"
    }
   ],
   "source": [
    "toronto_df.shape"
   ]
  },
  {
   "cell_type": "markdown",
   "metadata": {},
   "source": [
    "### Import libraries"
   ]
  },
  {
   "cell_type": "code",
   "execution_count": 6,
   "metadata": {},
   "outputs": [
    {
     "name": "stdout",
     "output_type": "stream",
     "text": [
      "Folium installed\n",
      "Libraries imported.\n"
     ]
    }
   ],
   "source": [
    "import requests # library to handle requests\n",
    "import numpy as np # library to handle data in a vectorized manner\n",
    "import random # library for random number generation\n",
    "import pandas as pd \n",
    "from geopy.geocoders import Nominatim # module to convert an address into latitude and longitude values\n",
    "from pandas.io.json import json_normalize \n",
    "\n",
    "# libraries for displaying images\n",
    "from IPython.display import Image \n",
    "from IPython.core.display import HTML \n",
    "\n",
    "import folium # plotting library\n",
    "\n",
    "print('Folium installed')\n",
    "print('Libraries imported.')"
   ]
  },
  {
   "cell_type": "markdown",
   "metadata": {},
   "source": [
    "### Access Foursquare"
   ]
  },
  {
   "cell_type": "code",
   "execution_count": 7,
   "metadata": {},
   "outputs": [
    {
     "name": "stdout",
     "output_type": "stream",
     "text": [
      "Your credentails:\n",
      "CLIENT_ID: ZRMZZGCXZLQBD0HE52LWZQ1JKLTZFTQF545O0SYT213KFBOK\n",
      "CLIENT_SECRET:TULJH33RBUTZ3E4NV4LVRHC4O4JE425WUIQP2FVG41N4P04P\n"
     ]
    }
   ],
   "source": [
    "CLIENT_ID = 'ZRMZZGCXZLQBD0HE52LWZQ1JKLTZFTQF545O0SYT213KFBOK' # your Foursquare ID\n",
    "CLIENT_SECRET = 'TULJH33RBUTZ3E4NV4LVRHC4O4JE425WUIQP2FVG41N4P04P' # your Foursquare Secret\n",
    "ACCESS_TOKEN = 'RTHUEBRBCVGK4EZDSF051F4MTWRUMWUCAVZIAW0YORDHQLMP' # your FourSquare Access Token\n",
    "VERSION = '20180604'\n",
    "LIMIT = 30\n",
    "print('Your credentails:')\n",
    "print('CLIENT_ID: ' + CLIENT_ID)\n",
    "print('CLIENT_SECRET:' + CLIENT_SECRET)"
   ]
  },
  {
   "cell_type": "markdown",
   "metadata": {},
   "source": [
    "### Define Lawrence Park is the start point"
   ]
  },
  {
   "cell_type": "code",
   "execution_count": 8,
   "metadata": {},
   "outputs": [
    {
     "name": "stdout",
     "output_type": "stream",
     "text": [
      "43.729199 -79.4032525\n"
     ]
    }
   ],
   "source": [
    "address = 'Lawrence Park, Toronto'\n",
    "\n",
    "geolocator = Nominatim(user_agent=\"foursquare_agent\")\n",
    "location = geolocator.geocode(address)\n",
    "latitude = location.latitude\n",
    "longitude = location.longitude\n",
    "print(latitude, longitude)"
   ]
  },
  {
   "cell_type": "markdown",
   "metadata": {},
   "source": [
    "### Looking for a coffee from the park within 500 meters"
   ]
  },
  {
   "cell_type": "code",
   "execution_count": 9,
   "metadata": {},
   "outputs": [
    {
     "name": "stdout",
     "output_type": "stream",
     "text": [
      "coffee .... OK!\n"
     ]
    }
   ],
   "source": [
    "search_query = 'coffee'\n",
    "radius = 500\n",
    "print(search_query + ' .... OK!')"
   ]
  },
  {
   "cell_type": "code",
   "execution_count": 10,
   "metadata": {},
   "outputs": [
    {
     "data": {
      "text/plain": "'https://api.foursquare.com/v2/venues/search?client_id=ZRMZZGCXZLQBD0HE52LWZQ1JKLTZFTQF545O0SYT213KFBOK&client_secret=TULJH33RBUTZ3E4NV4LVRHC4O4JE425WUIQP2FVG41N4P04P&ll=43.729199,-79.4032525&oauth_token=RTHUEBRBCVGK4EZDSF051F4MTWRUMWUCAVZIAW0YORDHQLMP&v=20180604&query=coffee&radius=500&limit=30'"
     },
     "execution_count": 10,
     "metadata": {},
     "output_type": "execute_result"
    }
   ],
   "source": [
    "url = 'https://api.foursquare.com/v2/venues/search?client_id={}&client_secret={}&ll={},{}&oauth_token={}&v={}&query={}&radius={}&limit={}'.format(CLIENT_ID, CLIENT_SECRET, latitude, longitude,ACCESS_TOKEN, VERSION, search_query, radius, LIMIT)\n",
    "url"
   ]
  },
  {
   "cell_type": "markdown",
   "metadata": {},
   "source": [
    "### GET Request and examine the results"
   ]
  },
  {
   "cell_type": "code",
   "execution_count": 11,
   "metadata": {},
   "outputs": [
    {
     "data": {
      "text/plain": "{'meta': {'code': 200, 'requestId': '5fe18a0954b550515139e2b1'},\n 'notifications': [{'type': 'notificationTray', 'item': {'unreadCount': 0}}],\n 'response': {'venues': [{'id': '519e6c44498eda6c74ccd15b',\n    'name': 'Starbucks',\n    'location': {'address': '3050 Yonge St',\n     'crossStreet': 'at Lawrence Ave W',\n     'lat': 43.724878,\n     'lng': -79.40249,\n     'labeledLatLngs': [{'label': 'display',\n       'lat': 43.724878,\n       'lng': -79.40249}],\n     'distance': 484,\n     'postalCode': 'M4N 2K4',\n     'cc': 'CA',\n     'city': 'Toronto',\n     'state': 'ON',\n     'country': 'Canada',\n     'formattedAddress': ['3050 Yonge St (at Lawrence Ave W)',\n      'Toronto ON M4N 2K4',\n      'Canada']},\n    'categories': [{'id': '4bf58dd8d48988d1e0931735',\n      'name': 'Coffee Shop',\n      'pluralName': 'Coffee Shops',\n      'shortName': 'Coffee Shop',\n      'icon': {'prefix': 'https://ss3.4sqi.net/img/categories_v2/food/coffeeshop_',\n       'suffix': '.png'},\n      'primary': True}],\n    'referralId': 'v-1608616457',\n    'hasPerk': False}]}}"
     },
     "execution_count": 11,
     "metadata": {},
     "output_type": "execute_result"
    }
   ],
   "source": [
    "results = requests.get(url).json()\n",
    "results"
   ]
  },
  {
   "cell_type": "code",
   "execution_count": 12,
   "metadata": {},
   "outputs": [
    {
     "data": {
      "text/html": "<div>\n<style scoped>\n    .dataframe tbody tr th:only-of-type {\n        vertical-align: middle;\n    }\n\n    .dataframe tbody tr th {\n        vertical-align: top;\n    }\n\n    .dataframe thead th {\n        text-align: right;\n    }\n</style>\n<table border=\"1\" class=\"dataframe\">\n  <thead>\n    <tr style=\"text-align: right;\">\n      <th></th>\n      <th>id</th>\n      <th>name</th>\n      <th>categories</th>\n      <th>referralId</th>\n      <th>hasPerk</th>\n      <th>location.address</th>\n      <th>location.crossStreet</th>\n      <th>location.lat</th>\n      <th>location.lng</th>\n      <th>location.labeledLatLngs</th>\n      <th>location.distance</th>\n      <th>location.postalCode</th>\n      <th>location.cc</th>\n      <th>location.city</th>\n      <th>location.state</th>\n      <th>location.country</th>\n      <th>location.formattedAddress</th>\n    </tr>\n  </thead>\n  <tbody>\n    <tr>\n      <th>0</th>\n      <td>519e6c44498eda6c74ccd15b</td>\n      <td>Starbucks</td>\n      <td>[{'id': '4bf58dd8d48988d1e0931735', 'name': 'C...</td>\n      <td>v-1608616457</td>\n      <td>False</td>\n      <td>3050 Yonge St</td>\n      <td>at Lawrence Ave W</td>\n      <td>43.724878</td>\n      <td>-79.40249</td>\n      <td>[{'label': 'display', 'lat': 43.724878, 'lng':...</td>\n      <td>484</td>\n      <td>M4N 2K4</td>\n      <td>CA</td>\n      <td>Toronto</td>\n      <td>ON</td>\n      <td>Canada</td>\n      <td>[3050 Yonge St (at Lawrence Ave W), Toronto ON...</td>\n    </tr>\n  </tbody>\n</table>\n</div>",
      "text/plain": "                         id       name  \\\n0  519e6c44498eda6c74ccd15b  Starbucks   \n\n                                          categories    referralId  hasPerk  \\\n0  [{'id': '4bf58dd8d48988d1e0931735', 'name': 'C...  v-1608616457    False   \n\n  location.address location.crossStreet  location.lat  location.lng  \\\n0    3050 Yonge St    at Lawrence Ave W     43.724878     -79.40249   \n\n                             location.labeledLatLngs  location.distance  \\\n0  [{'label': 'display', 'lat': 43.724878, 'lng':...                484   \n\n  location.postalCode location.cc location.city location.state  \\\n0             M4N 2K4          CA       Toronto             ON   \n\n  location.country                          location.formattedAddress  \n0           Canada  [3050 Yonge St (at Lawrence Ave W), Toronto ON...  "
     },
     "execution_count": 12,
     "metadata": {},
     "output_type": "execute_result"
    }
   ],
   "source": [
    "# assign relevant part of JSON to venues\n",
    "venues = results['response']['venues']\n",
    "\n",
    "# tranform venues into a dataframe\n",
    "dataframe = json_normalize(venues)\n",
    "dataframe.head()"
   ]
  },
  {
   "cell_type": "markdown",
   "metadata": {},
   "source": [
    "### There is only one cafe around the Lawrence Park"
   ]
  },
  {
   "cell_type": "code",
   "execution_count": 13,
   "metadata": {},
   "outputs": [
    {
     "data": {
      "text/html": "<div>\n<style scoped>\n    .dataframe tbody tr th:only-of-type {\n        vertical-align: middle;\n    }\n\n    .dataframe tbody tr th {\n        vertical-align: top;\n    }\n\n    .dataframe thead th {\n        text-align: right;\n    }\n</style>\n<table border=\"1\" class=\"dataframe\">\n  <thead>\n    <tr style=\"text-align: right;\">\n      <th></th>\n      <th>name</th>\n      <th>categories</th>\n      <th>address</th>\n      <th>crossStreet</th>\n      <th>lat</th>\n      <th>lng</th>\n      <th>labeledLatLngs</th>\n      <th>distance</th>\n      <th>postalCode</th>\n      <th>cc</th>\n      <th>city</th>\n      <th>state</th>\n      <th>country</th>\n      <th>formattedAddress</th>\n      <th>id</th>\n    </tr>\n  </thead>\n  <tbody>\n    <tr>\n      <th>0</th>\n      <td>Starbucks</td>\n      <td>Coffee Shop</td>\n      <td>3050 Yonge St</td>\n      <td>at Lawrence Ave W</td>\n      <td>43.724878</td>\n      <td>-79.40249</td>\n      <td>[{'label': 'display', 'lat': 43.724878, 'lng':...</td>\n      <td>484</td>\n      <td>M4N 2K4</td>\n      <td>CA</td>\n      <td>Toronto</td>\n      <td>ON</td>\n      <td>Canada</td>\n      <td>[3050 Yonge St (at Lawrence Ave W), Toronto ON...</td>\n      <td>519e6c44498eda6c74ccd15b</td>\n    </tr>\n  </tbody>\n</table>\n</div>",
      "text/plain": "        name   categories        address        crossStreet        lat  \\\n0  Starbucks  Coffee Shop  3050 Yonge St  at Lawrence Ave W  43.724878   \n\n        lng                                     labeledLatLngs  distance  \\\n0 -79.40249  [{'label': 'display', 'lat': 43.724878, 'lng':...       484   \n\n  postalCode  cc     city state country  \\\n0    M4N 2K4  CA  Toronto    ON  Canada   \n\n                                    formattedAddress                        id  \n0  [3050 Yonge St (at Lawrence Ave W), Toronto ON...  519e6c44498eda6c74ccd15b  "
     },
     "execution_count": 13,
     "metadata": {},
     "output_type": "execute_result"
    }
   ],
   "source": [
    "# keep only columns that include venue name, and anything that is associated with location\n",
    "filtered_columns = ['name', 'categories'] + [col for col in dataframe.columns if col.startswith('location.')] + ['id']\n",
    "dataframe_filtered = dataframe.loc[:, filtered_columns]\n",
    "\n",
    "# function that extracts the category of the venue\n",
    "def get_category_type(row):\n",
    "    try:\n",
    "        categories_list = row['categories']\n",
    "    except:\n",
    "        categories_list = row['venue.categories']\n",
    "        \n",
    "    if len(categories_list) == 0:\n",
    "        return None\n",
    "    else:\n",
    "        return categories_list[0]['name']\n",
    "\n",
    "# filter the category for each row\n",
    "dataframe_filtered['categories'] = dataframe_filtered.apply(get_category_type, axis=1)\n",
    "\n",
    "# clean column names by keeping only last term\n",
    "dataframe_filtered.columns = [column.split('.')[-1] for column in dataframe_filtered.columns]\n",
    "\n",
    "dataframe_filtered"
   ]
  },
  {
   "cell_type": "markdown",
   "metadata": {},
   "source": [
    "### Map of Lawrence Park and the Starbucks"
   ]
  },
  {
   "cell_type": "code",
   "execution_count": 17,
   "metadata": {},
   "outputs": [
    {
     "data": {
      "text/html": "<div style=\"width:100%;\"><div style=\"position:relative;width:100%;height:0;padding-bottom:60%;\"><span style=\"color:#565656\">Make this Notebook Trusted to load map: File -> Trust Notebook</span><iframe src=\"about:blank\" style=\"position:absolute;width:100%;height:100%;left:0;top:0;border:none !important;\" data-html=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 onload=\"this.contentDocument.open();this.contentDocument.write(atob(this.getAttribute('data-html')));this.contentDocument.close();\" allowfullscreen webkitallowfullscreen mozallowfullscreen></iframe></div></div>",
      "text/plain": "<folium.folium.Map at 0x120ece0d0>"
     },
     "execution_count": 17,
     "metadata": {},
     "output_type": "execute_result"
    }
   ],
   "source": [
    "venues_map = folium.Map(location=[latitude, longitude], zoom_start=15) # generate map centred around the Conrad Hotel\n",
    "\n",
    "# add a red circle marker to represent the Lawrence Park\n",
    "folium.CircleMarker(\n",
    "    [latitude, longitude],\n",
    "    radius=10,\n",
    "    color='red',\n",
    "    popup='Lawrence Park',\n",
    "    fill = True,\n",
    "    fill_color = 'red',\n",
    "    fill_opacity = 0.6\n",
    ").add_to(venues_map)\n",
    "\n",
    "# add the Starbucks as blue circle markers\n",
    "for lat, lng, label in zip(dataframe_filtered.lat, dataframe_filtered.lng, dataframe_filtered.categories):\n",
    "    folium.CircleMarker(\n",
    "        [lat, lng],\n",
    "        radius=5,\n",
    "        color='blue',\n",
    "        popup=label,\n",
    "        fill = True,\n",
    "        fill_color='blue',\n",
    "        fill_opacity=0.6\n",
    "    ).add_to(venues_map)\n",
    "\n",
    "# display map\n",
    "venues_map"
   ]
  }
 ],
 "metadata": {
  "kernelspec": {
   "display_name": "Python 3.7.9 64-bit ('myenv': conda)",
   "metadata": {
    "interpreter": {
     "hash": "998658dcfcf8a395a02706f498ddc86aa6756b9b67f7f87b441900ca16fde5f8"
    }
   },
   "name": "python3"
  },
  "language_info": {
   "codemirror_mode": {
    "name": "ipython",
    "version": 3
   },
   "file_extension": ".py",
   "mimetype": "text/x-python",
   "name": "python",
   "nbconvert_exporter": "python",
   "pygments_lexer": "ipython3",
   "version": "3.7.9"
  },
  "orig_nbformat": 2
 },
 "nbformat": 4,
 "nbformat_minor": 2
}