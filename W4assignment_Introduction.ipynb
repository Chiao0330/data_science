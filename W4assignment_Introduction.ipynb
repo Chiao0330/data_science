{
 "cells": [
  {
   "cell_type": "markdown",
   "metadata": {},
   "source": [
    "# Capstone Project - Night Markets of Darwin region in Australia "
   ]
  },
  {
   "cell_type": "markdown",
   "metadata": {},
   "source": [
    "## Introduction: Night Market Development\n",
    "\n",
    "Darwin is the capital city of the Northern Territory, Australia. **Greater Darwin region** are with a 2019 estimated **population of 147,255** it has more residents than the rest of the sparsely populated Northern Territory. It is the smallest, wettest, and most northerly of the Australian capital cities and serves as the Top End's regional centre.\n",
    "Greater Darwin includeing capital Darwin city region and Palmerston city mainly which **Darwin** is with a population of **82,886** and **Palmerston** is **38,270.**\n",
    "\n",
    "This smallest city is the only city with night markets in Australia because it inspired by South Asia, also the location that Darwin as Asia's gateway to Australia. According to the tourism summary, there were **4,473,806 visitor nights** in Greater Darwin region in 2019 last year that is a tremendous number for a small region. \n",
    "\n",
    "**In this project, we are going to find out the night markets data from Foursquare and look into the location vs the population that do we need more night market? If so, where will it be? or the market is full now?**\n",
    "Furthermore, I have a leak of the dataset, for example, income, a background of the population...etc. So we are going to use the descriptive approach methodology for the problem which depends on the current status.\n",
    "\n"
   ]
  },
  {
   "cell_type": "markdown",
   "metadata": {},
   "source": [
    "### References\n",
    "Wiki https://en.wikipedia.org/wiki/Darwin,_Northern_Territory\n",
    "\n",
    "NT populatin https://nteconomy.nt.gov.au/population\n",
    "\n",
    "Tourism visitor summary https://economy.id.com.au/darwin/tourism-visitor-summary?BMID=20\n",
    "\n",
    "City of Palmerston LGA https://profile.id.com.au/rda-northern-territory/about?WebID=200\n"
   ]
  },
  {
   "cell_type": "code",
   "execution_count": null,
   "metadata": {},
   "outputs": [],
   "source": []
  }
 ],
 "metadata": {
  "kernelspec": {
   "display_name": "Python 3.7.9 64-bit ('myenv': conda)",
   "metadata": {
    "interpreter": {
     "hash": "998658dcfcf8a395a02706f498ddc86aa6756b9b67f7f87b441900ca16fde5f8"
    }
   },
   "name": "python3"
  },
  "language_info": {
   "name": "python",
   "nbconvert_exporter": "python",
   "version": "3.7.9-final"
  },
  "orig_nbformat": 2
 },
 "nbformat": 4,
 "nbformat_minor": 2
}