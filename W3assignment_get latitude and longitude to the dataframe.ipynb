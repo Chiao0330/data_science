{
 "cells": [
  {
   "cell_type": "markdown",
   "metadata": {},
   "source": [
    "# Applied Data Science Capstone\n",
    "## Week 3 Assignment - Explore and Cluster the neighborhoods in Toronto"
   ]
  },
  {
   "cell_type": "code",
   "execution_count": 9,
   "metadata": {},
   "outputs": [],
   "source": [
    "import pandas as pd"
   ]
  },
  {
   "cell_type": "markdown",
   "metadata": {},
   "source": [
    "### Download the data"
   ]
  },
  {
   "cell_type": "code",
   "execution_count": 10,
   "metadata": {},
   "outputs": [
    {
     "name": "stdout",
     "output_type": "stream",
     "text": [
      "3\n"
     ]
    }
   ],
   "source": [
    "url = 'https://en.wikipedia.org/wiki/List_of_postal_codes_of_Canada:_M'\n",
    "dfs = pd.read_html(url)\n",
    "\n",
    "print(len(dfs))"
   ]
  },
  {
   "cell_type": "code",
   "execution_count": 11,
   "metadata": {},
   "outputs": [
    {
     "name": "stdout",
     "output_type": "stream",
     "text": [
      "Postal Code           Borough  \\\n",
      "0           M1A      Not assigned   \n",
      "1           M2A      Not assigned   \n",
      "2           M3A        North York   \n",
      "3           M4A        North York   \n",
      "4           M5A  Downtown Toronto   \n",
      "..          ...               ...   \n",
      "175         M5Z      Not assigned   \n",
      "176         M6Z      Not assigned   \n",
      "177         M7Z      Not assigned   \n",
      "178         M8Z         Etobicoke   \n",
      "179         M9Z      Not assigned   \n",
      "\n",
      "                                         Neighbourhood  \n",
      "0                                         Not assigned  \n",
      "1                                         Not assigned  \n",
      "2                                            Parkwoods  \n",
      "3                                     Victoria Village  \n",
      "4                            Regent Park, Harbourfront  \n",
      "..                                                 ...  \n",
      "175                                       Not assigned  \n",
      "176                                       Not assigned  \n",
      "177                                       Not assigned  \n",
      "178  Mimico NW, The Queensway West, South of Bloor,...  \n",
      "179                                       Not assigned  \n",
      "\n",
      "[180 rows x 3 columns]\n"
     ]
    }
   ],
   "source": [
    "print(dfs[0])"
   ]
  },
  {
   "cell_type": "markdown",
   "metadata": {},
   "source": [
    "### Convert to a dataframe"
   ]
  },
  {
   "cell_type": "code",
   "execution_count": 12,
   "metadata": {},
   "outputs": [
    {
     "data": {
      "text/html": "<div>\n<style scoped>\n    .dataframe tbody tr th:only-of-type {\n        vertical-align: middle;\n    }\n\n    .dataframe tbody tr th {\n        vertical-align: top;\n    }\n\n    .dataframe thead th {\n        text-align: right;\n    }\n</style>\n<table border=\"1\" class=\"dataframe\">\n  <thead>\n    <tr style=\"text-align: right;\">\n      <th></th>\n      <th>Postal Code</th>\n      <th>Borough</th>\n      <th>Neighbourhood</th>\n    </tr>\n  </thead>\n  <tbody>\n    <tr>\n      <th>0</th>\n      <td>M1A</td>\n      <td>Not assigned</td>\n      <td>Not assigned</td>\n    </tr>\n    <tr>\n      <th>1</th>\n      <td>M2A</td>\n      <td>Not assigned</td>\n      <td>Not assigned</td>\n    </tr>\n    <tr>\n      <th>2</th>\n      <td>M3A</td>\n      <td>North York</td>\n      <td>Parkwoods</td>\n    </tr>\n    <tr>\n      <th>3</th>\n      <td>M4A</td>\n      <td>North York</td>\n      <td>Victoria Village</td>\n    </tr>\n    <tr>\n      <th>4</th>\n      <td>M5A</td>\n      <td>Downtown Toronto</td>\n      <td>Regent Park, Harbourfront</td>\n    </tr>\n  </tbody>\n</table>\n</div>",
      "text/plain": "  Postal Code           Borough              Neighbourhood\n0         M1A      Not assigned               Not assigned\n1         M2A      Not assigned               Not assigned\n2         M3A        North York                  Parkwoods\n3         M4A        North York           Victoria Village\n4         M5A  Downtown Toronto  Regent Park, Harbourfront"
     },
     "execution_count": 12,
     "metadata": {},
     "output_type": "execute_result"
    }
   ],
   "source": [
    "# Extract tables\n",
    "dfs = pd.read_html(url)\n",
    "\n",
    "# Get first table                                                                                                           \n",
    "df = dfs[0]\n",
    "\n",
    "# Converting to dataframe\n",
    "dataframe = df[['Postal Code','Borough','Neighbourhood']]\n",
    "df.head()\n"
   ]
  },
  {
   "cell_type": "markdown",
   "metadata": {},
   "source": [
    "### Ignore/remove the Borough=Not assigned"
   ]
  },
  {
   "cell_type": "code",
   "execution_count": 13,
   "metadata": {},
   "outputs": [
    {
     "data": {
      "text/html": "<div>\n<style scoped>\n    .dataframe tbody tr th:only-of-type {\n        vertical-align: middle;\n    }\n\n    .dataframe tbody tr th {\n        vertical-align: top;\n    }\n\n    .dataframe thead th {\n        text-align: right;\n    }\n</style>\n<table border=\"1\" class=\"dataframe\">\n  <thead>\n    <tr style=\"text-align: right;\">\n      <th></th>\n      <th>Postal Code</th>\n      <th>Borough</th>\n      <th>Neighbourhood</th>\n    </tr>\n  </thead>\n  <tbody>\n    <tr>\n      <th>2</th>\n      <td>M3A</td>\n      <td>North York</td>\n      <td>Parkwoods</td>\n    </tr>\n    <tr>\n      <th>3</th>\n      <td>M4A</td>\n      <td>North York</td>\n      <td>Victoria Village</td>\n    </tr>\n    <tr>\n      <th>4</th>\n      <td>M5A</td>\n      <td>Downtown Toronto</td>\n      <td>Regent Park, Harbourfront</td>\n    </tr>\n    <tr>\n      <th>5</th>\n      <td>M6A</td>\n      <td>North York</td>\n      <td>Lawrence Manor, Lawrence Heights</td>\n    </tr>\n    <tr>\n      <th>6</th>\n      <td>M7A</td>\n      <td>Downtown Toronto</td>\n      <td>Queen's Park, Ontario Provincial Government</td>\n    </tr>\n    <tr>\n      <th>8</th>\n      <td>M9A</td>\n      <td>Etobicoke</td>\n      <td>Islington Avenue, Humber Valley Village</td>\n    </tr>\n    <tr>\n      <th>9</th>\n      <td>M1B</td>\n      <td>Scarborough</td>\n      <td>Malvern, Rouge</td>\n    </tr>\n    <tr>\n      <th>11</th>\n      <td>M3B</td>\n      <td>North York</td>\n      <td>Don Mills</td>\n    </tr>\n    <tr>\n      <th>12</th>\n      <td>M4B</td>\n      <td>East York</td>\n      <td>Parkview Hill, Woodbine Gardens</td>\n    </tr>\n    <tr>\n      <th>13</th>\n      <td>M5B</td>\n      <td>Downtown Toronto</td>\n      <td>Garden District, Ryerson</td>\n    </tr>\n  </tbody>\n</table>\n</div>",
      "text/plain": "   Postal Code           Borough                                Neighbourhood\n2          M3A        North York                                    Parkwoods\n3          M4A        North York                             Victoria Village\n4          M5A  Downtown Toronto                    Regent Park, Harbourfront\n5          M6A        North York             Lawrence Manor, Lawrence Heights\n6          M7A  Downtown Toronto  Queen's Park, Ontario Provincial Government\n8          M9A         Etobicoke      Islington Avenue, Humber Valley Village\n9          M1B       Scarborough                               Malvern, Rouge\n11         M3B        North York                                    Don Mills\n12         M4B         East York              Parkview Hill, Woodbine Gardens\n13         M5B  Downtown Toronto                     Garden District, Ryerson"
     },
     "execution_count": 13,
     "metadata": {},
     "output_type": "execute_result"
    }
   ],
   "source": [
    "df=df[df.Borough != 'Not assigned']\n",
    "df.head(10)"
   ]
  },
  {
   "cell_type": "markdown",
   "metadata": {},
   "source": [
    "### Shape"
   ]
  },
  {
   "cell_type": "code",
   "execution_count": 14,
   "metadata": {},
   "outputs": [
    {
     "data": {
      "text/plain": "(103, 3)"
     },
     "execution_count": 14,
     "metadata": {},
     "output_type": "execute_result"
    }
   ],
   "source": [
    "df.shape"
   ]
  },
  {
   "cell_type": "markdown",
   "metadata": {},
   "source": [
    "## Add Latitude and Longitude to the dataframe"
   ]
  },
  {
   "cell_type": "code",
   "execution_count": 15,
   "metadata": {},
   "outputs": [
    {
     "name": "stdout",
     "output_type": "stream",
     "text": [
      "Requirement already satisfied: geocoder in /opt/miniconda3/envs/myenv/lib/python3.7/site-packages (1.38.1)\n",
      "Requirement already satisfied: six in /opt/miniconda3/envs/myenv/lib/python3.7/site-packages (from geocoder) (1.15.0)\n",
      "Requirement already satisfied: ratelim in /opt/miniconda3/envs/myenv/lib/python3.7/site-packages (from geocoder) (0.1.6)\n",
      "Requirement already satisfied: click in /opt/miniconda3/envs/myenv/lib/python3.7/site-packages (from geocoder) (7.1.2)\n",
      "Requirement already satisfied: future in /opt/miniconda3/envs/myenv/lib/python3.7/site-packages (from geocoder) (0.18.2)\n",
      "Requirement already satisfied: requests in /opt/miniconda3/envs/myenv/lib/python3.7/site-packages (from geocoder) (2.25.0)\n",
      "Requirement already satisfied: decorator in /opt/miniconda3/envs/myenv/lib/python3.7/site-packages (from ratelim->geocoder) (4.4.2)\n",
      "Requirement already satisfied: chardet<4,>=3.0.2 in /opt/miniconda3/envs/myenv/lib/python3.7/site-packages (from requests->geocoder) (3.0.4)\n",
      "Requirement already satisfied: certifi>=2017.4.17 in /opt/miniconda3/envs/myenv/lib/python3.7/site-packages (from requests->geocoder) (2020.12.5)\n",
      "Requirement already satisfied: urllib3<1.27,>=1.21.1 in /opt/miniconda3/envs/myenv/lib/python3.7/site-packages (from requests->geocoder) (1.25.11)\n",
      "Requirement already satisfied: idna<3,>=2.5 in /opt/miniconda3/envs/myenv/lib/python3.7/site-packages (from requests->geocoder) (2.10)\n"
     ]
    }
   ],
   "source": [
    "!pip3 install geocoder"
   ]
  },
  {
   "cell_type": "code",
   "execution_count": 16,
   "metadata": {},
   "outputs": [],
   "source": [
    "import geocoder"
   ]
  },
  {
   "cell_type": "markdown",
   "metadata": {},
   "source": [
    "### Find Latitude and Longitude"
   ]
  },
  {
   "cell_type": "code",
   "execution_count": 17,
   "metadata": {},
   "outputs": [
    {
     "name": "stdout",
     "output_type": "stream",
     "text": [
      "M3A [43.75245000000007, -79.32990999999998]\n",
      "M4A [43.73057000000006, -79.31305999999995]\n",
      "M5A [43.65512000000007, -79.36263999999994]\n",
      "M6A [43.72327000000007, -79.45041999999995]\n",
      "M7A [43.66253000000006, -79.39187999999996]\n",
      "M9A [43.662630000000036, -79.52830999999998]\n",
      "M1B [43.811390000000074, -79.19661999999994]\n",
      "M3B [43.74923000000007, -79.36185999999998]\n",
      "M4B [43.70718000000005, -79.31191999999999]\n",
      "M5B [43.65739000000008, -79.37803999999994]\n",
      "M6B [43.70687000000004, -79.44811999999996]\n",
      "M9B [43.65034000000003, -79.55361999999997]\n",
      "M1C [43.78574000000003, -79.15874999999994]\n",
      "M3C [43.72168000000005, -79.34351999999996]\n",
      "M4C [43.68970000000007, -79.30681999999996]\n",
      "M5C [43.65215000000006, -79.37586999999996]\n",
      "M6C [43.69211000000007, -79.43035999999995]\n",
      "M9C [43.64857000000006, -79.57824999999997]\n",
      "M1E [43.765750000000025, -79.17469999999997]\n",
      "M4E [43.67709000000008, -79.29546999999997]\n",
      "M5E [43.64536000000004, -79.37305999999995]\n",
      "M6E [43.68784000000005, -79.45045999999996]\n",
      "M1G [43.76812000000007, -79.21760999999998]\n",
      "M4G [43.709020000000066, -79.36348999999996]\n",
      "M5G [43.65609000000006, -79.38492999999994]\n",
      "M6G [43.668690000000026, -79.42070999999999]\n",
      "M1H [43.76944000000003, -79.23891999999995]\n",
      "M2H [43.80225000000007, -79.35557999999997]\n",
      "M3H [43.75788000000006, -79.44846999999999]\n",
      "M4H [43.70142000000004, -79.34904999999998]\n",
      "M5H [43.64970000000005, -79.38257999999996]\n",
      "M6H [43.665050000000065, -79.43890999999996]\n",
      "M1J [43.74446000000006, -79.23116999999996]\n",
      "M2J [43.780970000000025, -79.34780999999998]\n",
      "M3J [43.76476000000008, -79.48797999999994]\n",
      "M4J [43.68811000000005, -79.33417999999995]\n",
      "M5J [43.64285000000007, -79.38075999999995]\n",
      "M6J [43.64848000000006, -79.41773999999998]\n",
      "M1K [43.725820000000056, -79.26460999999995]\n",
      "M2K [43.781120000000044, -79.38059999999996]\n",
      "M3K [43.73384000000004, -79.46827999999994]\n",
      "M4K [43.68375000000003, -79.35511999999994]\n",
      "M5K [43.64710000000008, -79.38152999999994]\n",
      "M6K [43.639410000000055, -79.42675999999994]\n",
      "M1L [43.71289000000007, -79.28505999999999]\n",
      "M2L [43.756980000000055, -79.38059999999996]\n",
      "M3L [43.720710000000054, -79.51700999999997]\n",
      "M4L [43.667970000000025, -79.31466999999998]\n",
      "M5L [43.64840000000004, -79.37913999999995]\n",
      "M6L [43.71381000000008, -79.48873999999995]\n",
      "M9L [43.75948000000005, -79.55706999999995]\n",
      "M1M [43.72360000000003, -79.23495999999994]\n",
      "M2M [43.79182000000003, -79.41371999999996]\n",
      "M3M [43.73224000000005, -79.50177999999994]\n",
      "M4M [43.66213000000005, -79.33496999999994]\n",
      "M5M [43.73545000000007, -79.41915999999998]\n",
      "M6M [43.695170000000076, -79.48396999999994]\n",
      "M9M [43.733670000000075, -79.53768999999994]\n",
      "M1N [43.695100000000025, -79.26465999999994]\n",
      "M2N [43.76774000000006, -79.40727999999996]\n",
      "M3N [43.75478000000004, -79.51958999999994]\n",
      "M4N [43.72843000000006, -79.38712999999996]\n",
      "M5N [43.71208000000007, -79.41847999999999]\n",
      "M6N [43.67646000000008, -79.48271999999997]\n",
      "M9N [43.705070000000035, -79.51803999999998]\n",
      "M1P [43.75998000000004, -79.26939999999996]\n",
      "M2P [43.747780000000034, -79.40032999999994]\n",
      "M4P [43.71276000000006, -79.38850999999994]\n",
      "M5P [43.69479000000007, -79.41439999999994]\n",
      "M6P [43.659730000000025, -79.46280999999993]\n",
      "M9P [43.696300000000065, -79.52925999999997]\n",
      "M1R [43.75075000000004, -79.30053999999996]\n",
      "M2R [43.77989000000008, -79.44677999999999]\n",
      "M4R [43.71458000000007, -79.40667999999994]\n",
      "M5R [43.674840000000074, -79.40451999999993]\n",
      "M6R [43.64777000000004, -79.44988999999998]\n",
      "M7R [43.648690000000045, -79.38543999999996]\n",
      "M9R [43.68681000000004, -79.55727999999993]\n",
      "M1S [43.794520000000034, -79.26707999999996]\n",
      "M4S [43.703400000000045, -79.38658999999996]\n",
      "M5S [43.663110000000074, -79.40179999999998]\n",
      "M6S [43.649820000000034, -79.47547999999995]\n",
      "M1T [43.784910000000025, -79.29721999999998]\n",
      "M4T [43.690480000000036, -79.38317999999998]\n",
      "M5T [43.65351000000004, -79.39721999999995]\n",
      "M1V [43.817810000000065, -79.28043999999994]\n",
      "M4V [43.68568000000005, -79.40236999999996]\n",
      "M5V [43.640820000000076, -79.39817999999997]\n",
      "M8V [43.60987000000006, -79.49808999999993]\n",
      "M9V [43.744530000000054, -79.58623999999998]\n",
      "M1W [43.80079000000006, -79.32161999999994]\n",
      "M4W [43.68190000000004, -79.37828999999994]\n",
      "M5W [43.648690000000045, -79.38543999999996]\n",
      "M8W [43.601240000000075, -79.53878999999995]\n",
      "M9W [43.71174000000008, -79.57940999999994]\n",
      "M1X [43.83412000000004, -79.21667999999994]\n",
      "M4X [43.667880000000025, -79.36648999999994]\n",
      "M5X [43.64828000000006, -79.38145999999995]\n",
      "M8X [43.65319000000005, -79.51112999999998]\n",
      "M4Y [43.66659000000004, -79.38132999999993]\n",
      "M7Y [43.648690000000045, -79.38543999999996]\n",
      "M8Y [43.632780000000025, -79.48944999999998]\n",
      "M8Z [43.62513000000007, -79.52680999999995]\n"
     ]
    }
   ],
   "source": [
    "latitude=[]\n",
    "longitude=[]\n",
    "for code in df['Postal Code']:\n",
    "    g = geocoder.arcgis('{}, Toronto, Ontario'.format(code))\n",
    "    print(code, g.latlng)\n",
    "    while (g.latlng is None):\n",
    "        g = geocoder.arcgis('{}, Toronto, Ontario'.format(code))\n",
    "        print(code, g.latlng)\n",
    "    latlng = g.latlng\n",
    "    latitude.append(latlng[0])\n",
    "    longitude.append(latlng[1])"
   ]
  },
  {
   "cell_type": "markdown",
   "metadata": {},
   "source": [
    "### Add Latitude and Longitude to the existing dataframe"
   ]
  },
  {
   "cell_type": "code",
   "execution_count": 20,
   "metadata": {},
   "outputs": [
    {
     "data": {
      "text/html": "<div>\n<style scoped>\n    .dataframe tbody tr th:only-of-type {\n        vertical-align: middle;\n    }\n\n    .dataframe tbody tr th {\n        vertical-align: top;\n    }\n\n    .dataframe thead th {\n        text-align: right;\n    }\n</style>\n<table border=\"1\" class=\"dataframe\">\n  <thead>\n    <tr style=\"text-align: right;\">\n      <th></th>\n      <th>Postal Code</th>\n      <th>Borough</th>\n      <th>Neighbourhood</th>\n      <th>latitude</th>\n      <th>longitude</th>\n    </tr>\n  </thead>\n  <tbody>\n    <tr>\n      <th>2</th>\n      <td>M3A</td>\n      <td>North York</td>\n      <td>Parkwoods</td>\n      <td>43.75245</td>\n      <td>-79.32991</td>\n    </tr>\n    <tr>\n      <th>3</th>\n      <td>M4A</td>\n      <td>North York</td>\n      <td>Victoria Village</td>\n      <td>43.73057</td>\n      <td>-79.31306</td>\n    </tr>\n    <tr>\n      <th>4</th>\n      <td>M5A</td>\n      <td>Downtown Toronto</td>\n      <td>Regent Park, Harbourfront</td>\n      <td>43.65512</td>\n      <td>-79.36264</td>\n    </tr>\n    <tr>\n      <th>5</th>\n      <td>M6A</td>\n      <td>North York</td>\n      <td>Lawrence Manor, Lawrence Heights</td>\n      <td>43.72327</td>\n      <td>-79.45042</td>\n    </tr>\n    <tr>\n      <th>6</th>\n      <td>M7A</td>\n      <td>Downtown Toronto</td>\n      <td>Queen's Park, Ontario Provincial Government</td>\n      <td>43.66253</td>\n      <td>-79.39188</td>\n    </tr>\n    <tr>\n      <th>...</th>\n      <td>...</td>\n      <td>...</td>\n      <td>...</td>\n      <td>...</td>\n      <td>...</td>\n    </tr>\n    <tr>\n      <th>160</th>\n      <td>M8X</td>\n      <td>Etobicoke</td>\n      <td>The Kingsway, Montgomery Road, Old Mill North</td>\n      <td>43.65319</td>\n      <td>-79.51113</td>\n    </tr>\n    <tr>\n      <th>165</th>\n      <td>M4Y</td>\n      <td>Downtown Toronto</td>\n      <td>Church and Wellesley</td>\n      <td>43.66659</td>\n      <td>-79.38133</td>\n    </tr>\n    <tr>\n      <th>168</th>\n      <td>M7Y</td>\n      <td>East Toronto</td>\n      <td>Business reply mail Processing Centre, South C...</td>\n      <td>43.64869</td>\n      <td>-79.38544</td>\n    </tr>\n    <tr>\n      <th>169</th>\n      <td>M8Y</td>\n      <td>Etobicoke</td>\n      <td>Old Mill South, King's Mill Park, Sunnylea, Hu...</td>\n      <td>43.63278</td>\n      <td>-79.48945</td>\n    </tr>\n    <tr>\n      <th>178</th>\n      <td>M8Z</td>\n      <td>Etobicoke</td>\n      <td>Mimico NW, The Queensway West, South of Bloor,...</td>\n      <td>43.62513</td>\n      <td>-79.52681</td>\n    </tr>\n  </tbody>\n</table>\n<p>103 rows × 5 columns</p>\n</div>",
      "text/plain": "    Postal Code           Borough  \\\n2           M3A        North York   \n3           M4A        North York   \n4           M5A  Downtown Toronto   \n5           M6A        North York   \n6           M7A  Downtown Toronto   \n..          ...               ...   \n160         M8X         Etobicoke   \n165         M4Y  Downtown Toronto   \n168         M7Y      East Toronto   \n169         M8Y         Etobicoke   \n178         M8Z         Etobicoke   \n\n                                         Neighbourhood  latitude  longitude  \n2                                            Parkwoods  43.75245  -79.32991  \n3                                     Victoria Village  43.73057  -79.31306  \n4                            Regent Park, Harbourfront  43.65512  -79.36264  \n5                     Lawrence Manor, Lawrence Heights  43.72327  -79.45042  \n6          Queen's Park, Ontario Provincial Government  43.66253  -79.39188  \n..                                                 ...       ...        ...  \n160      The Kingsway, Montgomery Road, Old Mill North  43.65319  -79.51113  \n165                               Church and Wellesley  43.66659  -79.38133  \n168  Business reply mail Processing Centre, South C...  43.64869  -79.38544  \n169  Old Mill South, King's Mill Park, Sunnylea, Hu...  43.63278  -79.48945  \n178  Mimico NW, The Queensway West, South of Bloor,...  43.62513  -79.52681  \n\n[103 rows x 5 columns]"
     },
     "execution_count": 20,
     "metadata": {},
     "output_type": "execute_result"
    }
   ],
   "source": [
    "df['latitude'] = latitude\n",
    "df['longitude'] = longitude\n",
    "df"
   ]
  }
 ],
 "metadata": {
  "kernelspec": {
   "display_name": "Python 3.7.9 64-bit ('myenv': conda)",
   "metadata": {
    "interpreter": {
     "hash": "998658dcfcf8a395a02706f498ddc86aa6756b9b67f7f87b441900ca16fde5f8"
    }
   },
   "name": "python3"
  },
  "language_info": {
   "codemirror_mode": {
    "name": "ipython",
    "version": 3
   },
   "file_extension": ".py",
   "mimetype": "text/x-python",
   "name": "python",
   "nbconvert_exporter": "python",
   "pygments_lexer": "ipython3",
   "version": "3.7.9"
  },
  "orig_nbformat": 2
 },
 "nbformat": 4,
 "nbformat_minor": 2
}