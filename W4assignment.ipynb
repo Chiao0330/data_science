{
 "cells": [
  {
   "cell_type": "markdown",
   "metadata": {},
   "source": [
    "# Capstone Project - Night Markets of Darwin region in Australia "
   ]
  },
  {
   "cell_type": "markdown",
   "metadata": {},
   "source": [
    "## Introduction: Night Market Development\n",
    "\n",
    "Darwin is the capital city of the Northern Territory, Australia. **Greater Darwin region** are with a 2019 estimated **population of 147,255** it has more residents than the rest of the sparsely populated Northern Territory. It is the smallest, wettest, and most northerly of the Australian capital cities and serves as the Top End's regional centre.\n",
    "Greater Darwin includeing capital Darwin city region and Palmerston city mainly which **Darwin** is with a population of **82,886** and **Palmerston** is **38,270.**\n",
    "\n",
    "This smallest city is the only city with night markets in Australia because it inspired by South Asia, also the location that Darwin as Asia's gateway to Australia. According to the tourism summary, there were **4,473,806 visitor nights** in Greater Darwin region in 2019 last year that is a tremendous number for a small region. \n",
    "\n",
    "**In this project, we are going to find out that do we need more night market? If so, where will it be? or the market is full now?**\n",
    "\n",
    "\n"
   ]
  },
  {
   "cell_type": "markdown",
   "metadata": {},
   "source": [
    "### References\n",
    "Wiki https://en.wikipedia.org/wiki/Darwin,_Northern_Territory\n",
    "\n",
    "NT populatin https://nteconomy.nt.gov.au/population\n",
    "\n",
    "Tourism visitor summary https://economy.id.com.au/darwin/tourism-visitor-summary?BMID=20\n",
    "\n",
    "City of Palmerston LGA https://profile.id.com.au/rda-northern-territory/about?WebID=200\n"
   ]
  },
  {
   "cell_type": "markdown",
   "metadata": {},
   "source": [
    "## Data Section"
   ]
  },
  {
   "cell_type": "markdown",
   "metadata": {},
   "source": [
    "### Import libraries"
   ]
  },
  {
   "cell_type": "code",
   "execution_count": 1,
   "metadata": {},
   "outputs": [
    {
     "name": "stdout",
     "output_type": "stream",
     "text": [
      "Folium installed\n",
      "Libraries imported.\n"
     ]
    }
   ],
   "source": [
    "import requests # library to handle requests\n",
    "import numpy as np # library to handle data in a vectorized manner\n",
    "import random # library for random number generation\n",
    "import pandas as pd \n",
    "from geopy.geocoders import Nominatim # module to convert an address into latitude and longitude values\n",
    "from pandas.io.json import json_normalize  \n",
    "\n",
    "import folium # plotting library\n",
    "\n",
    "print('Folium installed')\n",
    "print('Libraries imported.')"
   ]
  },
  {
   "cell_type": "markdown",
   "metadata": {},
   "source": [
    "### Access Foursquare"
   ]
  },
  {
   "cell_type": "code",
   "execution_count": 5,
   "metadata": {},
   "outputs": [],
   "source": [
    "CLIENT_ID = 'ZRMZZGCXZLQBD0HE52LWZQ1JKLTZFTQF545O0SYT213KFBOK' # your Foursquare ID\n",
    "CLIENT_SECRET = 'TULJH33RBUTZ3E4NV4LVRHC4O4JE425WUIQP2FVG41N4P04P' # your Foursquare Secret\n",
    "ACCESS_TOKEN = 'RTHUEBRBCVGK4EZDSF051F4MTWRUMWUCAVZIAW0YORDHQLMP' # your FourSquare Access Token\n",
    "VERSION = '20180604'\n",
    "LIMIT = 30"
   ]
  },
  {
   "cell_type": "markdown",
   "metadata": {},
   "source": [
    "### Get the markets data"
   ]
  },
  {
   "cell_type": "code",
   "execution_count": 6,
   "metadata": {},
   "outputs": [
    {
     "name": "stdout",
     "output_type": "stream",
     "text": [
      "-12.460834 130.844442\n"
     ]
    }
   ],
   "source": [
    "address = 'Darwin city, Australia'\n",
    "\n",
    "geolocator = Nominatim(user_agent=\"foursquare_agent\")\n",
    "location = geolocator.geocode(address)\n",
    "latitude = location.latitude\n",
    "longitude = location.longitude\n",
    "print(latitude, longitude)"
   ]
  },
  {
   "cell_type": "code",
   "execution_count": 7,
   "metadata": {},
   "outputs": [
    {
     "name": "stdout",
     "output_type": "stream",
     "text": [
      "market .... OK!\n"
     ]
    }
   ],
   "source": [
    "search_query = 'market'\n",
    "radius = 40000\n",
    "print(search_query + ' .... OK!')"
   ]
  },
  {
   "cell_type": "code",
   "execution_count": 8,
   "metadata": {},
   "outputs": [
    {
     "data": {
      "text/plain": "'https://api.foursquare.com/v2/venues/search?client_id=ZRMZZGCXZLQBD0HE52LWZQ1JKLTZFTQF545O0SYT213KFBOK&client_secret=TULJH33RBUTZ3E4NV4LVRHC4O4JE425WUIQP2FVG41N4P04P&ll=-12.460834,130.844442&oauth_token=RTHUEBRBCVGK4EZDSF051F4MTWRUMWUCAVZIAW0YORDHQLMP&v=20180604&query=market&radius=40000&limit=30'"
     },
     "execution_count": 8,
     "metadata": {},
     "output_type": "execute_result"
    }
   ],
   "source": [
    "url = 'https://api.foursquare.com/v2/venues/search?client_id={}&client_secret={}&ll={},{}&oauth_token={}&v={}&query={}&radius={}&limit={}'.format(CLIENT_ID, CLIENT_SECRET, latitude, longitude,ACCESS_TOKEN, VERSION, search_query, radius, LIMIT)\n",
    "url"
   ]
  },
  {
   "cell_type": "code",
   "execution_count": 9,
   "metadata": {},
   "outputs": [
    {
     "data": {
      "text/plain": "{'meta': {'code': 200, 'requestId': '5fe1d3f11539512b520960f4'},\n 'notifications': [{'type': 'notificationTray', 'item': {'unreadCount': 0}}],\n 'response': {'venues': [{'id': '4e5afd181f6e804280daa7a1',\n    'name': 'Darwin Fish Market',\n    'location': {'lat': -12.456999,\n     'lng': 130.846864,\n     'labeledLatLngs': [{'label': 'display',\n       'lat': -12.456999,\n       'lng': 130.846864}],\n     'distance': 501,\n     'cc': 'AU',\n     'state': 'Northern Territory',\n     'country': 'Australia',\n     'formattedAddress': ['Darwin City NT']},\n    'categories': [{'id': '4d4b7105d754a06378d81259',\n      'name': 'Shop & Service',\n      'pluralName': 'Shops & Services',\n      'shortName': 'Shops',\n      'icon': {'prefix': 'https://ss3.4sqi.net/img/categories_v2/shops/default_',\n       'suffix': '.png'},\n      'primary': True}],\n    'referralId': 'v-1608635377',\n    'hasPerk': False},\n   {'id': '55419014498e544ab99b7b25',\n    'name': 'Mindil Beach Sunset Market Association',\n    'location': {'lat': -12.454504,\n     'lng': 130.836639,\n     'labeledLatLngs': [{'label': 'display',\n       'lat': -12.454504,\n       'lng': 130.836639}],\n     'distance': 1102,\n     'cc': 'AU',\n     'country': 'Australia'},\n    'categories': [{'id': '50328a8e91d4c4b30a586d6c',\n      'name': 'Non-Profit',\n      'pluralName': 'Non-Profits',\n      'shortName': 'Non-Profit',\n      'icon': {'prefix': 'https://ss3.4sqi.net/img/categories_v2/building/default_',\n       'suffix': '.png'},\n      'primary': True}],\n    'referralId': 'v-1608635377',\n    'hasPerk': False},\n   {'id': '593d31c98c812a1b83d48c42',\n    'name': 'Greek Market Festival',\n    'location': {'lat': -12.4545861,\n     'lng': 130.8314031,\n     'labeledLatLngs': [{'label': 'display',\n       'lat': -12.4545861,\n       'lng': 130.8314031}],\n     'distance': 1578,\n     'cc': 'AU',\n     'country': 'Australia'},\n    'categories': [],\n    'referralId': 'v-1608635377',\n    'hasPerk': False},\n   {'id': '4befb148f831c9280d3d01f2',\n    'name': 'Mindil Beach Markets',\n    'location': {'address': 'Maria Liveris Dr',\n     'lat': -12.444942263279113,\n     'lng': 130.83193422466752,\n     'labeledLatLngs': [{'label': 'display',\n       'lat': -12.444942263279113,\n       'lng': 130.83193422466752}],\n     'distance': 2231,\n     'postalCode': '0820',\n     'cc': 'AU',\n     'city': 'Darwin',\n     'state': 'NT',\n     'country': 'Australia',\n     'formattedAddress': ['Maria Liveris Dr', 'Darwin NT 0820']},\n    'categories': [{'id': '4bf58dd8d48988d1fa941735',\n      'name': 'Farmers Market',\n      'pluralName': 'Farmers Markets',\n      'shortName': \"Farmer's Market\",\n      'icon': {'prefix': 'https://ss3.4sqi.net/img/categories_v2/shops/food_farmersmarket_',\n       'suffix': '.png'},\n      'primary': True}],\n    'referralId': 'v-1608635377',\n    'hasPerk': False},\n   {'id': '51943b1d498ea6c38d4da6d6',\n    'name': 'Nightcliff Market',\n    'location': {'address': 'Pavonia Place',\n     'lat': -12.38731742,\n     'lng': 130.85083463,\n     'labeledLatLngs': [{'label': 'display',\n       'lat': -12.38731742,\n       'lng': 130.85083463}],\n     'distance': 8213,\n     'postalCode': '0810',\n     'cc': 'AU',\n     'city': 'Nightcliff',\n     'state': 'NT',\n     'country': 'Australia',\n     'formattedAddress': ['Pavonia Place', 'Nightcliff NT 0810']},\n    'categories': [{'id': '50be8ee891d4fa8dcc7199a7',\n      'name': 'Market',\n      'pluralName': 'Markets',\n      'shortName': 'Market',\n      'icon': {'prefix': 'https://ss3.4sqi.net/img/categories_v2/shops/market_',\n       'suffix': '.png'},\n      'primary': True}],\n    'venuePage': {'id': '554208513'},\n    'referralId': 'v-1608635377',\n    'hasPerk': False},\n   {'id': '50b041fbe4b0e7b98ef89bbd',\n    'name': 'Fresh Produce Market',\n    'location': {'address': '50 De Latour St.',\n     'lat': -12.398511,\n     'lng': 130.855081,\n     'labeledLatLngs': [{'label': 'display',\n       'lat': -12.398511,\n       'lng': 130.855081}],\n     'distance': 7033,\n     'postalCode': '0810',\n     'cc': 'AU',\n     'state': 'Northern Territory',\n     'country': 'Australia',\n     'formattedAddress': ['50 De Latour St.', 'Coconut Grove NT 0810']},\n    'categories': [{'id': '4bf58dd8d48988d1f5941735',\n      'name': 'Gourmet Shop',\n      'pluralName': 'Gourmet Shops',\n      'shortName': 'Gourmet',\n      'icon': {'prefix': 'https://ss3.4sqi.net/img/categories_v2/shops/food_gourmet_',\n       'suffix': '.png'},\n      'primary': True}],\n    'referralId': 'v-1608635377',\n    'hasPerk': False},\n   {'id': '4be4daaa2457a593b6e6aa15',\n    'name': 'Parap Village Markets',\n    'location': {'address': 'Parap Rd',\n     'lat': -12.431360163526694,\n     'lng': 130.84418324256387,\n     'labeledLatLngs': [{'label': 'display',\n       'lat': -12.431360163526694,\n       'lng': 130.84418324256387}],\n     'distance': 3281,\n     'cc': 'AU',\n     'city': 'Darwin',\n     'state': 'NT',\n     'country': 'Australia',\n     'formattedAddress': ['Parap Rd', 'Darwin NT']},\n    'categories': [{'id': '4bf58dd8d48988d1fa941735',\n      'name': 'Farmers Market',\n      'pluralName': 'Farmers Markets',\n      'shortName': \"Farmer's Market\",\n      'icon': {'prefix': 'https://ss3.4sqi.net/img/categories_v2/shops/food_farmersmarket_',\n       'suffix': '.png'},\n      'primary': True}],\n    'referralId': 'v-1608635377',\n    'hasPerk': False},\n   {'id': '59045bdca4b51b124bfd0ba8',\n    'name': 'Malak Marketplace',\n    'location': {'lat': -12.39698,\n     'lng': 130.90361,\n     'labeledLatLngs': [{'label': 'display',\n       'lat': -12.39698,\n       'lng': 130.90361}],\n     'distance': 9586,\n     'cc': 'AU',\n     'country': 'Australia'},\n    'categories': [],\n    'referralId': 'v-1608635377',\n    'hasPerk': False},\n   {'id': '59b286a76eda027f5426724c',\n    'name': 'Palmerston Rural Market',\n    'location': {'lat': -12.4798953,\n     'lng': 130.9846165,\n     'labeledLatLngs': [{'label': 'display',\n       'lat': -12.4798953,\n       'lng': 130.9846165}],\n     'distance': 15382,\n     'cc': 'AU',\n     'country': 'Australia'},\n    'categories': [],\n    'referralId': 'v-1608635377',\n    'hasPerk': False},\n   {'id': '53884dce498e8da3bcc31560',\n    'name': 'Palmerston Friday Market',\n    'location': {'lat': -12.4802547,\n     'lng': 130.9851403,\n     'labeledLatLngs': [{'label': 'display',\n       'lat': -12.4802547,\n       'lng': 130.9851403}],\n     'distance': 15444,\n     'cc': 'AU',\n     'country': 'Australia'},\n    'categories': [],\n    'referralId': 'v-1608635377',\n    'hasPerk': False},\n   {'id': '4c2d819c76a7ef3bb0c5deb8',\n    'name': 'CDU Marketing',\n    'location': {'address': 'Ellengowan Drive',\n     'lat': -12.37211353595676,\n     'lng': 130.86952686309814,\n     'labeledLatLngs': [{'label': 'display',\n       'lat': -12.37211353595676,\n       'lng': 130.86952686309814}],\n     'distance': 10245,\n     'postalCode': '0815',\n     'cc': 'AU',\n     'state': 'Northern Territory',\n     'country': 'Australia',\n     'formattedAddress': ['Ellengowan Drive', 'Casuarina NT 0815']},\n    'categories': [{'id': '4bf58dd8d48988d197941735',\n      'name': 'College Administrative Building',\n      'pluralName': 'College Administrative Buildings',\n      'shortName': 'Administrative Building',\n      'icon': {'prefix': 'https://ss3.4sqi.net/img/categories_v2/education/administrativebuilding_',\n       'suffix': '.png'},\n      'primary': True}],\n    'referralId': 'v-1608635377',\n    'hasPerk': False},\n   {'id': '4c9e92a1542b224b9ca0f59f',\n    'name': 'Rapid Creek Markets',\n    'location': {'address': '48 Trower Rd',\n     'lat': -12.387075992362616,\n     'lng': 130.86268835065454,\n     'labeledLatLngs': [{'label': 'display',\n       'lat': -12.387075992362616,\n       'lng': 130.86268835065454}],\n     'distance': 8446,\n     'cc': 'AU',\n     'city': 'Milner',\n     'state': 'NT',\n     'country': 'Australia',\n     'formattedAddress': ['48 Trower Rd', 'Milner NT']},\n    'categories': [{'id': '4bf58dd8d48988d1fa941735',\n      'name': 'Farmers Market',\n      'pluralName': 'Farmers Markets',\n      'shortName': \"Farmer's Market\",\n      'icon': {'prefix': 'https://ss3.4sqi.net/img/categories_v2/shops/food_farmersmarket_',\n       'suffix': '.png'},\n      'primary': True}],\n    'referralId': 'v-1608635377',\n    'hasPerk': False},\n   {'id': '4c65027ddddfa593de1493ff',\n    'name': 'Palmerston Markets',\n    'location': {'address': '6 The Boulevard',\n     'lat': -12.4798465,\n     'lng': 130.9844998,\n     'labeledLatLngs': [{'label': 'display',\n       'lat': -12.4798465,\n       'lng': 130.9844998}],\n     'distance': 15369,\n     'postalCode': '0830',\n     'cc': 'AU',\n     'city': 'Palmerston City',\n     'state': 'NT',\n     'country': 'Australia',\n     'formattedAddress': ['6 The Boulevard', 'Palmerston City NT 0830']},\n    'categories': [{'id': '4bf58dd8d48988d1f7941735',\n      'name': 'Flea Market',\n      'pluralName': 'Flea Markets',\n      'shortName': 'Flea Market',\n      'icon': {'prefix': 'https://ss3.4sqi.net/img/categories_v2/shops/fleamarket_',\n       'suffix': '.png'},\n      'primary': True}],\n    'venuePage': {'id': '539539412'},\n    'referralId': 'v-1608635377',\n    'hasPerk': False},\n   {'id': '4f6e8ed7e4b0ac4cdb62cc4e',\n    'name': 'Berry Springs Markets',\n    'location': {'lat': -12.710838122403933,\n     'lng': 130.9994760290905,\n     'labeledLatLngs': [{'label': 'display',\n       'lat': -12.710838122403933,\n       'lng': 130.9994760290905}],\n     'distance': 32530,\n     'cc': 'AU',\n     'country': 'Australia'},\n    'categories': [{'id': '4bf58dd8d48988d1f7941735',\n      'name': 'Flea Market',\n      'pluralName': 'Flea Markets',\n      'shortName': 'Flea Market',\n      'icon': {'prefix': 'https://ss3.4sqi.net/img/categories_v2/shops/fleamarket_',\n       'suffix': '.png'},\n      'primary': True}],\n    'referralId': 'v-1608635377',\n    'hasPerk': False}]}}"
     },
     "execution_count": 9,
     "metadata": {},
     "output_type": "execute_result"
    }
   ],
   "source": [
    "results = requests.get(url).json()\n",
    "results"
   ]
  },
  {
   "cell_type": "code",
   "execution_count": 10,
   "metadata": {},
   "outputs": [
    {
     "data": {
      "text/html": "<div>\n<style scoped>\n    .dataframe tbody tr th:only-of-type {\n        vertical-align: middle;\n    }\n\n    .dataframe tbody tr th {\n        vertical-align: top;\n    }\n\n    .dataframe thead th {\n        text-align: right;\n    }\n</style>\n<table border=\"1\" class=\"dataframe\">\n  <thead>\n    <tr style=\"text-align: right;\">\n      <th></th>\n      <th>name</th>\n      <th>categories</th>\n      <th>lat</th>\n      <th>lng</th>\n      <th>labeledLatLngs</th>\n      <th>distance</th>\n      <th>cc</th>\n      <th>state</th>\n      <th>country</th>\n      <th>formattedAddress</th>\n      <th>address</th>\n      <th>postalCode</th>\n      <th>city</th>\n      <th>id</th>\n    </tr>\n  </thead>\n  <tbody>\n    <tr>\n      <th>0</th>\n      <td>Darwin Fish Market</td>\n      <td>Shop &amp; Service</td>\n      <td>-12.456999</td>\n      <td>130.846864</td>\n      <td>[{'label': 'display', 'lat': -12.456999, 'lng'...</td>\n      <td>501</td>\n      <td>AU</td>\n      <td>Northern Territory</td>\n      <td>Australia</td>\n      <td>[Darwin City NT]</td>\n      <td>NaN</td>\n      <td>NaN</td>\n      <td>NaN</td>\n      <td>4e5afd181f6e804280daa7a1</td>\n    </tr>\n    <tr>\n      <th>1</th>\n      <td>Mindil Beach Sunset Market Association</td>\n      <td>Non-Profit</td>\n      <td>-12.454504</td>\n      <td>130.836639</td>\n      <td>[{'label': 'display', 'lat': -12.454504, 'lng'...</td>\n      <td>1102</td>\n      <td>AU</td>\n      <td>NaN</td>\n      <td>Australia</td>\n      <td>NaN</td>\n      <td>NaN</td>\n      <td>NaN</td>\n      <td>NaN</td>\n      <td>55419014498e544ab99b7b25</td>\n    </tr>\n    <tr>\n      <th>2</th>\n      <td>Greek Market Festival</td>\n      <td>None</td>\n      <td>-12.454586</td>\n      <td>130.831403</td>\n      <td>[{'label': 'display', 'lat': -12.4545861, 'lng...</td>\n      <td>1578</td>\n      <td>AU</td>\n      <td>NaN</td>\n      <td>Australia</td>\n      <td>NaN</td>\n      <td>NaN</td>\n      <td>NaN</td>\n      <td>NaN</td>\n      <td>593d31c98c812a1b83d48c42</td>\n    </tr>\n    <tr>\n      <th>3</th>\n      <td>Mindil Beach Markets</td>\n      <td>Farmers Market</td>\n      <td>-12.444942</td>\n      <td>130.831934</td>\n      <td>[{'label': 'display', 'lat': -12.4449422632791...</td>\n      <td>2231</td>\n      <td>AU</td>\n      <td>NT</td>\n      <td>Australia</td>\n      <td>[Maria Liveris Dr, Darwin NT 0820]</td>\n      <td>Maria Liveris Dr</td>\n      <td>0820</td>\n      <td>Darwin</td>\n      <td>4befb148f831c9280d3d01f2</td>\n    </tr>\n    <tr>\n      <th>4</th>\n      <td>Nightcliff Market</td>\n      <td>Market</td>\n      <td>-12.387317</td>\n      <td>130.850835</td>\n      <td>[{'label': 'display', 'lat': -12.38731742, 'ln...</td>\n      <td>8213</td>\n      <td>AU</td>\n      <td>NT</td>\n      <td>Australia</td>\n      <td>[Pavonia Place, Nightcliff NT 0810]</td>\n      <td>Pavonia Place</td>\n      <td>0810</td>\n      <td>Nightcliff</td>\n      <td>51943b1d498ea6c38d4da6d6</td>\n    </tr>\n    <tr>\n      <th>5</th>\n      <td>Fresh Produce Market</td>\n      <td>Gourmet Shop</td>\n      <td>-12.398511</td>\n      <td>130.855081</td>\n      <td>[{'label': 'display', 'lat': -12.398511, 'lng'...</td>\n      <td>7033</td>\n      <td>AU</td>\n      <td>Northern Territory</td>\n      <td>Australia</td>\n      <td>[50 De Latour St., Coconut Grove NT 0810]</td>\n      <td>50 De Latour St.</td>\n      <td>0810</td>\n      <td>NaN</td>\n      <td>50b041fbe4b0e7b98ef89bbd</td>\n    </tr>\n    <tr>\n      <th>6</th>\n      <td>Parap Village Markets</td>\n      <td>Farmers Market</td>\n      <td>-12.431360</td>\n      <td>130.844183</td>\n      <td>[{'label': 'display', 'lat': -12.4313601635266...</td>\n      <td>3281</td>\n      <td>AU</td>\n      <td>NT</td>\n      <td>Australia</td>\n      <td>[Parap Rd, Darwin NT]</td>\n      <td>Parap Rd</td>\n      <td>NaN</td>\n      <td>Darwin</td>\n      <td>4be4daaa2457a593b6e6aa15</td>\n    </tr>\n    <tr>\n      <th>7</th>\n      <td>Malak Marketplace</td>\n      <td>None</td>\n      <td>-12.396980</td>\n      <td>130.903610</td>\n      <td>[{'label': 'display', 'lat': -12.39698, 'lng':...</td>\n      <td>9586</td>\n      <td>AU</td>\n      <td>NaN</td>\n      <td>Australia</td>\n      <td>NaN</td>\n      <td>NaN</td>\n      <td>NaN</td>\n      <td>NaN</td>\n      <td>59045bdca4b51b124bfd0ba8</td>\n    </tr>\n    <tr>\n      <th>8</th>\n      <td>Palmerston Rural Market</td>\n      <td>None</td>\n      <td>-12.479895</td>\n      <td>130.984616</td>\n      <td>[{'label': 'display', 'lat': -12.4798953, 'lng...</td>\n      <td>15382</td>\n      <td>AU</td>\n      <td>NaN</td>\n      <td>Australia</td>\n      <td>NaN</td>\n      <td>NaN</td>\n      <td>NaN</td>\n      <td>NaN</td>\n      <td>59b286a76eda027f5426724c</td>\n    </tr>\n    <tr>\n      <th>9</th>\n      <td>Palmerston Friday Market</td>\n      <td>None</td>\n      <td>-12.480255</td>\n      <td>130.985140</td>\n      <td>[{'label': 'display', 'lat': -12.4802547, 'lng...</td>\n      <td>15444</td>\n      <td>AU</td>\n      <td>NaN</td>\n      <td>Australia</td>\n      <td>NaN</td>\n      <td>NaN</td>\n      <td>NaN</td>\n      <td>NaN</td>\n      <td>53884dce498e8da3bcc31560</td>\n    </tr>\n    <tr>\n      <th>10</th>\n      <td>CDU Marketing</td>\n      <td>College Administrative Building</td>\n      <td>-12.372114</td>\n      <td>130.869527</td>\n      <td>[{'label': 'display', 'lat': -12.3721135359567...</td>\n      <td>10245</td>\n      <td>AU</td>\n      <td>Northern Territory</td>\n      <td>Australia</td>\n      <td>[Ellengowan Drive, Casuarina NT 0815]</td>\n      <td>Ellengowan Drive</td>\n      <td>0815</td>\n      <td>NaN</td>\n      <td>4c2d819c76a7ef3bb0c5deb8</td>\n    </tr>\n    <tr>\n      <th>11</th>\n      <td>Rapid Creek Markets</td>\n      <td>Farmers Market</td>\n      <td>-12.387076</td>\n      <td>130.862688</td>\n      <td>[{'label': 'display', 'lat': -12.3870759923626...</td>\n      <td>8446</td>\n      <td>AU</td>\n      <td>NT</td>\n      <td>Australia</td>\n      <td>[48 Trower Rd, Milner NT]</td>\n      <td>48 Trower Rd</td>\n      <td>NaN</td>\n      <td>Milner</td>\n      <td>4c9e92a1542b224b9ca0f59f</td>\n    </tr>\n    <tr>\n      <th>12</th>\n      <td>Palmerston Markets</td>\n      <td>Flea Market</td>\n      <td>-12.479847</td>\n      <td>130.984500</td>\n      <td>[{'label': 'display', 'lat': -12.4798465, 'lng...</td>\n      <td>15369</td>\n      <td>AU</td>\n      <td>NT</td>\n      <td>Australia</td>\n      <td>[6 The Boulevard, Palmerston City NT 0830]</td>\n      <td>6 The Boulevard</td>\n      <td>0830</td>\n      <td>Palmerston City</td>\n      <td>4c65027ddddfa593de1493ff</td>\n    </tr>\n    <tr>\n      <th>13</th>\n      <td>Berry Springs Markets</td>\n      <td>Flea Market</td>\n      <td>-12.710838</td>\n      <td>130.999476</td>\n      <td>[{'label': 'display', 'lat': -12.7108381224039...</td>\n      <td>32530</td>\n      <td>AU</td>\n      <td>NaN</td>\n      <td>Australia</td>\n      <td>NaN</td>\n      <td>NaN</td>\n      <td>NaN</td>\n      <td>NaN</td>\n      <td>4f6e8ed7e4b0ac4cdb62cc4e</td>\n    </tr>\n  </tbody>\n</table>\n</div>",
      "text/plain": "                                      name                       categories  \\\n0                       Darwin Fish Market                   Shop & Service   \n1   Mindil Beach Sunset Market Association                       Non-Profit   \n2                    Greek Market Festival                             None   \n3                     Mindil Beach Markets                   Farmers Market   \n4                        Nightcliff Market                           Market   \n5                     Fresh Produce Market                     Gourmet Shop   \n6                    Parap Village Markets                   Farmers Market   \n7                        Malak Marketplace                             None   \n8                  Palmerston Rural Market                             None   \n9                 Palmerston Friday Market                             None   \n10                           CDU Marketing  College Administrative Building   \n11                     Rapid Creek Markets                   Farmers Market   \n12                      Palmerston Markets                      Flea Market   \n13                   Berry Springs Markets                      Flea Market   \n\n          lat         lng                                     labeledLatLngs  \\\n0  -12.456999  130.846864  [{'label': 'display', 'lat': -12.456999, 'lng'...   \n1  -12.454504  130.836639  [{'label': 'display', 'lat': -12.454504, 'lng'...   \n2  -12.454586  130.831403  [{'label': 'display', 'lat': -12.4545861, 'lng...   \n3  -12.444942  130.831934  [{'label': 'display', 'lat': -12.4449422632791...   \n4  -12.387317  130.850835  [{'label': 'display', 'lat': -12.38731742, 'ln...   \n5  -12.398511  130.855081  [{'label': 'display', 'lat': -12.398511, 'lng'...   \n6  -12.431360  130.844183  [{'label': 'display', 'lat': -12.4313601635266...   \n7  -12.396980  130.903610  [{'label': 'display', 'lat': -12.39698, 'lng':...   \n8  -12.479895  130.984616  [{'label': 'display', 'lat': -12.4798953, 'lng...   \n9  -12.480255  130.985140  [{'label': 'display', 'lat': -12.4802547, 'lng...   \n10 -12.372114  130.869527  [{'label': 'display', 'lat': -12.3721135359567...   \n11 -12.387076  130.862688  [{'label': 'display', 'lat': -12.3870759923626...   \n12 -12.479847  130.984500  [{'label': 'display', 'lat': -12.4798465, 'lng...   \n13 -12.710838  130.999476  [{'label': 'display', 'lat': -12.7108381224039...   \n\n    distance  cc               state    country  \\\n0        501  AU  Northern Territory  Australia   \n1       1102  AU                 NaN  Australia   \n2       1578  AU                 NaN  Australia   \n3       2231  AU                  NT  Australia   \n4       8213  AU                  NT  Australia   \n5       7033  AU  Northern Territory  Australia   \n6       3281  AU                  NT  Australia   \n7       9586  AU                 NaN  Australia   \n8      15382  AU                 NaN  Australia   \n9      15444  AU                 NaN  Australia   \n10     10245  AU  Northern Territory  Australia   \n11      8446  AU                  NT  Australia   \n12     15369  AU                  NT  Australia   \n13     32530  AU                 NaN  Australia   \n\n                              formattedAddress           address postalCode  \\\n0                             [Darwin City NT]               NaN        NaN   \n1                                          NaN               NaN        NaN   \n2                                          NaN               NaN        NaN   \n3           [Maria Liveris Dr, Darwin NT 0820]  Maria Liveris Dr       0820   \n4          [Pavonia Place, Nightcliff NT 0810]     Pavonia Place       0810   \n5    [50 De Latour St., Coconut Grove NT 0810]  50 De Latour St.       0810   \n6                        [Parap Rd, Darwin NT]          Parap Rd        NaN   \n7                                          NaN               NaN        NaN   \n8                                          NaN               NaN        NaN   \n9                                          NaN               NaN        NaN   \n10       [Ellengowan Drive, Casuarina NT 0815]  Ellengowan Drive       0815   \n11                   [48 Trower Rd, Milner NT]      48 Trower Rd        NaN   \n12  [6 The Boulevard, Palmerston City NT 0830]   6 The Boulevard       0830   \n13                                         NaN               NaN        NaN   \n\n               city                        id  \n0               NaN  4e5afd181f6e804280daa7a1  \n1               NaN  55419014498e544ab99b7b25  \n2               NaN  593d31c98c812a1b83d48c42  \n3            Darwin  4befb148f831c9280d3d01f2  \n4        Nightcliff  51943b1d498ea6c38d4da6d6  \n5               NaN  50b041fbe4b0e7b98ef89bbd  \n6            Darwin  4be4daaa2457a593b6e6aa15  \n7               NaN  59045bdca4b51b124bfd0ba8  \n8               NaN  59b286a76eda027f5426724c  \n9               NaN  53884dce498e8da3bcc31560  \n10              NaN  4c2d819c76a7ef3bb0c5deb8  \n11           Milner  4c9e92a1542b224b9ca0f59f  \n12  Palmerston City  4c65027ddddfa593de1493ff  \n13              NaN  4f6e8ed7e4b0ac4cdb62cc4e  "
     },
     "execution_count": 10,
     "metadata": {},
     "output_type": "execute_result"
    }
   ],
   "source": [
    "# assign relevant part of JSON to venues\n",
    "venues = results['response']['venues']\n",
    "\n",
    "# tranform venues into a dataframe\n",
    "dataframe = json_normalize(venues)\n",
    "\n",
    "# keep only columns that include venue name, and anything that is associated with location\n",
    "filtered_columns = ['name', 'categories'] + [col for col in dataframe.columns if col.startswith('location.')] + ['id']\n",
    "dataframe_filtered = dataframe.loc[:, filtered_columns]\n",
    "\n",
    "# function that extracts the category of the venue\n",
    "def get_category_type(row):\n",
    "    try:\n",
    "        categories_list = row['categories']\n",
    "    except:\n",
    "        categories_list = row['venue.categories']\n",
    "        \n",
    "    if len(categories_list) == 0:\n",
    "        return None\n",
    "    else:\n",
    "        return categories_list[0]['name']\n",
    "\n",
    "# filter the category for each row\n",
    "dataframe_filtered['categories'] = dataframe_filtered.apply(get_category_type, axis=1)\n",
    "\n",
    "# clean column names by keeping only last term\n",
    "dataframe_filtered.columns = [column.split('.')[-1] for column in dataframe_filtered.columns]\n",
    "\n",
    "dataframe_filtered"
   ]
  },
  {
   "cell_type": "markdown",
   "metadata": {},
   "source": [
    "### Keep only Market, remove supermarket stores"
   ]
  },
  {
   "cell_type": "code",
   "execution_count": 17,
   "metadata": {},
   "outputs": [
    {
     "data": {
      "text/html": "<div>\n<style scoped>\n    .dataframe tbody tr th:only-of-type {\n        vertical-align: middle;\n    }\n\n    .dataframe tbody tr th {\n        vertical-align: top;\n    }\n\n    .dataframe thead th {\n        text-align: right;\n    }\n</style>\n<table border=\"1\" class=\"dataframe\">\n  <thead>\n    <tr style=\"text-align: right;\">\n      <th></th>\n      <th>name</th>\n      <th>categories</th>\n      <th>lat</th>\n      <th>lng</th>\n      <th>labeledLatLngs</th>\n      <th>distance</th>\n      <th>cc</th>\n      <th>state</th>\n      <th>country</th>\n      <th>formattedAddress</th>\n      <th>address</th>\n      <th>postalCode</th>\n      <th>city</th>\n      <th>id</th>\n    </tr>\n  </thead>\n  <tbody>\n    <tr>\n      <th>3</th>\n      <td>Mindil Beach Markets</td>\n      <td>Farmers Market</td>\n      <td>-12.444942</td>\n      <td>130.831934</td>\n      <td>[{'label': 'display', 'lat': -12.4449422632791...</td>\n      <td>2231</td>\n      <td>AU</td>\n      <td>NT</td>\n      <td>Australia</td>\n      <td>[Maria Liveris Dr, Darwin NT 0820]</td>\n      <td>Maria Liveris Dr</td>\n      <td>0820</td>\n      <td>Darwin</td>\n      <td>4befb148f831c9280d3d01f2</td>\n    </tr>\n    <tr>\n      <th>4</th>\n      <td>Nightcliff Market</td>\n      <td>Market</td>\n      <td>-12.387317</td>\n      <td>130.850835</td>\n      <td>[{'label': 'display', 'lat': -12.38731742, 'ln...</td>\n      <td>8213</td>\n      <td>AU</td>\n      <td>NT</td>\n      <td>Australia</td>\n      <td>[Pavonia Place, Nightcliff NT 0810]</td>\n      <td>Pavonia Place</td>\n      <td>0810</td>\n      <td>Nightcliff</td>\n      <td>51943b1d498ea6c38d4da6d6</td>\n    </tr>\n    <tr>\n      <th>6</th>\n      <td>Parap Village Markets</td>\n      <td>Farmers Market</td>\n      <td>-12.431360</td>\n      <td>130.844183</td>\n      <td>[{'label': 'display', 'lat': -12.4313601635266...</td>\n      <td>3281</td>\n      <td>AU</td>\n      <td>NT</td>\n      <td>Australia</td>\n      <td>[Parap Rd, Darwin NT]</td>\n      <td>Parap Rd</td>\n      <td>NaN</td>\n      <td>Darwin</td>\n      <td>4be4daaa2457a593b6e6aa15</td>\n    </tr>\n    <tr>\n      <th>11</th>\n      <td>Rapid Creek Markets</td>\n      <td>Farmers Market</td>\n      <td>-12.387076</td>\n      <td>130.862688</td>\n      <td>[{'label': 'display', 'lat': -12.3870759923626...</td>\n      <td>8446</td>\n      <td>AU</td>\n      <td>NT</td>\n      <td>Australia</td>\n      <td>[48 Trower Rd, Milner NT]</td>\n      <td>48 Trower Rd</td>\n      <td>NaN</td>\n      <td>Milner</td>\n      <td>4c9e92a1542b224b9ca0f59f</td>\n    </tr>\n    <tr>\n      <th>12</th>\n      <td>Palmerston Markets</td>\n      <td>Flea Market</td>\n      <td>-12.479847</td>\n      <td>130.984500</td>\n      <td>[{'label': 'display', 'lat': -12.4798465, 'lng...</td>\n      <td>15369</td>\n      <td>AU</td>\n      <td>NT</td>\n      <td>Australia</td>\n      <td>[6 The Boulevard, Palmerston City NT 0830]</td>\n      <td>6 The Boulevard</td>\n      <td>0830</td>\n      <td>Palmerston City</td>\n      <td>4c65027ddddfa593de1493ff</td>\n    </tr>\n    <tr>\n      <th>13</th>\n      <td>Berry Springs Markets</td>\n      <td>Flea Market</td>\n      <td>-12.710838</td>\n      <td>130.999476</td>\n      <td>[{'label': 'display', 'lat': -12.7108381224039...</td>\n      <td>32530</td>\n      <td>AU</td>\n      <td>NaN</td>\n      <td>Australia</td>\n      <td>NaN</td>\n      <td>NaN</td>\n      <td>NaN</td>\n      <td>NaN</td>\n      <td>4f6e8ed7e4b0ac4cdb62cc4e</td>\n    </tr>\n  </tbody>\n</table>\n</div>",
      "text/plain": "                     name      categories        lat         lng  \\\n3    Mindil Beach Markets  Farmers Market -12.444942  130.831934   \n4       Nightcliff Market          Market -12.387317  130.850835   \n6   Parap Village Markets  Farmers Market -12.431360  130.844183   \n11    Rapid Creek Markets  Farmers Market -12.387076  130.862688   \n12     Palmerston Markets     Flea Market -12.479847  130.984500   \n13  Berry Springs Markets     Flea Market -12.710838  130.999476   \n\n                                       labeledLatLngs  distance  cc state  \\\n3   [{'label': 'display', 'lat': -12.4449422632791...      2231  AU    NT   \n4   [{'label': 'display', 'lat': -12.38731742, 'ln...      8213  AU    NT   \n6   [{'label': 'display', 'lat': -12.4313601635266...      3281  AU    NT   \n11  [{'label': 'display', 'lat': -12.3870759923626...      8446  AU    NT   \n12  [{'label': 'display', 'lat': -12.4798465, 'lng...     15369  AU    NT   \n13  [{'label': 'display', 'lat': -12.7108381224039...     32530  AU   NaN   \n\n      country                            formattedAddress           address  \\\n3   Australia          [Maria Liveris Dr, Darwin NT 0820]  Maria Liveris Dr   \n4   Australia         [Pavonia Place, Nightcliff NT 0810]     Pavonia Place   \n6   Australia                       [Parap Rd, Darwin NT]          Parap Rd   \n11  Australia                   [48 Trower Rd, Milner NT]      48 Trower Rd   \n12  Australia  [6 The Boulevard, Palmerston City NT 0830]   6 The Boulevard   \n13  Australia                                         NaN               NaN   \n\n   postalCode             city                        id  \n3        0820           Darwin  4befb148f831c9280d3d01f2  \n4        0810       Nightcliff  51943b1d498ea6c38d4da6d6  \n6         NaN           Darwin  4be4daaa2457a593b6e6aa15  \n11        NaN           Milner  4c9e92a1542b224b9ca0f59f  \n12       0830  Palmerston City  4c65027ddddfa593de1493ff  \n13        NaN              NaN  4f6e8ed7e4b0ac4cdb62cc4e  "
     },
     "execution_count": 17,
     "metadata": {},
     "output_type": "execute_result"
    }
   ],
   "source": [
    "market_df = dataframe_filtered[dataframe_filtered['categories'].str.contains(\"Market\", na=False)]\n",
    "market_df"
   ]
  },
  {
   "cell_type": "markdown",
   "metadata": {},
   "source": [
    "### Shape"
   ]
  },
  {
   "cell_type": "code",
   "execution_count": 18,
   "metadata": {},
   "outputs": [
    {
     "data": {
      "text/plain": "(6, 14)"
     },
     "execution_count": 18,
     "metadata": {},
     "output_type": "execute_result"
    }
   ],
   "source": [
    "market_df.shape"
   ]
  },
  {
   "cell_type": "markdown",
   "metadata": {},
   "source": [
    "#### We have six nightmarket. Let's look where are they."
   ]
  },
  {
   "cell_type": "markdown",
   "metadata": {},
   "source": [
    "### Map"
   ]
  },
  {
   "cell_type": "code",
   "execution_count": 36,
   "metadata": {},
   "outputs": [
    {
     "data": {
      "text/html": "<div style=\"width:100%;\"><div style=\"position:relative;width:100%;height:0;padding-bottom:60%;\"><span style=\"color:#565656\">Make this Notebook Trusted to load map: File -> Trust Notebook</span><iframe src=\"about:blank\" style=\"position:absolute;width:100%;height:100%;left:0;top:0;border:none !important;\" data-html=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 onload=\"this.contentDocument.open();this.contentDocument.write(atob(this.getAttribute('data-html')));this.contentDocument.close();\" allowfullscreen webkitallowfullscreen mozallowfullscreen></iframe></div></div>",
      "text/plain": "<folium.folium.Map at 0x11fb4a510>"
     },
     "execution_count": 36,
     "metadata": {},
     "output_type": "execute_result"
    }
   ],
   "source": [
    "latitude = -12.479847 \n",
    "longitude = 130.984500\n",
    "\n",
    "# Create a map\n",
    "market_map = folium.Map(location=[latitude, longitude], zoom_start=9)\n",
    "\n",
    "\n",
    "markets = folium.map.FeatureGroup()\n",
    "\n",
    "# loop through the 100 crimes and add each to the incidents feature group\n",
    "for lat, lng, in zip(market_df.lat, market_df.lng):\n",
    "    markets.add_child(\n",
    "        folium.features.CircleMarker(\n",
    "            [lat, lng],\n",
    "            radius=5, # define how big you want the circle markers to be\n",
    "            color='blue',\n",
    "            fill=True,\n",
    "            fill_color='yellow',\n",
    "            fill_opacity=0.6\n",
    "        )\n",
    "    )\n",
    "\n",
    "# add incidents to map\n",
    "market_map.add_child(markets)"
   ]
  },
  {
   "cell_type": "markdown",
   "metadata": {},
   "source": [
    "#### Two night markets and two morning markets in Darwin\n",
    "#### One night market in Palmerston\n",
    "#### One morning market in Berry Springs. \n",
    "\n",
    "###  There are only 818 people living in Berry Springs region,  we can image they are happy with a market. And morning markets are common markets in many countries, so we only look at the night markets."
   ]
  },
  {
   "cell_type": "markdown",
   "metadata": {},
   "source": [
    "### Darwin vs Palmerston"
   ]
  },
  {
   "cell_type": "code",
   "execution_count": 42,
   "metadata": {},
   "outputs": [
    {
     "data": {
      "text/html": "<div>\n<style scoped>\n    .dataframe tbody tr th:only-of-type {\n        vertical-align: middle;\n    }\n\n    .dataframe tbody tr th {\n        vertical-align: top;\n    }\n\n    .dataframe thead th {\n        text-align: right;\n    }\n</style>\n<table border=\"1\" class=\"dataframe\">\n  <thead>\n    <tr style=\"text-align: right;\">\n      <th></th>\n      <th>Region</th>\n      <th>Market Name</th>\n      <th>Market Number</th>\n      <th>Population</th>\n    </tr>\n  </thead>\n  <tbody>\n    <tr>\n      <th>0</th>\n      <td>Darwin</td>\n      <td>Mindil, Nightcliff</td>\n      <td>2</td>\n      <td>82886</td>\n    </tr>\n    <tr>\n      <th>1</th>\n      <td>Palmerston</td>\n      <td>Palmerston</td>\n      <td>1</td>\n      <td>38270</td>\n    </tr>\n  </tbody>\n</table>\n</div>",
      "text/plain": "       Region         Market Name  Market Number  Population\n0      Darwin  Mindil, Nightcliff              2       82886\n1  Palmerston          Palmerston              1       38270"
     },
     "execution_count": 42,
     "metadata": {},
     "output_type": "execute_result"
    }
   ],
   "source": [
    "data = [[\"Darwin\",\"Mindil, Nightcliff\", 2, 82886],[\"Palmerston\",\"Palmerston\", 1, 38270]]\n",
    "market2_df = pd.DataFrame(data, columns=[\"Region\", \"Market Name\", \"Market Number\", \"Population\"])\n",
    "\n",
    "market2_df\n"
   ]
  },
  {
   "cell_type": "code",
   "execution_count": 43,
   "metadata": {},
   "outputs": [
    {
     "data": {
      "text/html": "<div>\n<style scoped>\n    .dataframe tbody tr th:only-of-type {\n        vertical-align: middle;\n    }\n\n    .dataframe tbody tr th {\n        vertical-align: top;\n    }\n\n    .dataframe thead th {\n        text-align: right;\n    }\n</style>\n<table border=\"1\" class=\"dataframe\">\n  <thead>\n    <tr style=\"text-align: right;\">\n      <th></th>\n      <th>Region</th>\n      <th>Market Name</th>\n      <th>Market Number</th>\n      <th>Population</th>\n      <th>Density of Population per Market</th>\n    </tr>\n  </thead>\n  <tbody>\n    <tr>\n      <th>0</th>\n      <td>Darwin</td>\n      <td>Mindil, Nightcliff</td>\n      <td>2</td>\n      <td>82886</td>\n      <td>41443.0</td>\n    </tr>\n    <tr>\n      <th>1</th>\n      <td>Palmerston</td>\n      <td>Palmerston</td>\n      <td>1</td>\n      <td>38270</td>\n      <td>38270.0</td>\n    </tr>\n  </tbody>\n</table>\n</div>",
      "text/plain": "       Region         Market Name  Market Number  Population  \\\n0      Darwin  Mindil, Nightcliff              2       82886   \n1  Palmerston          Palmerston              1       38270   \n\n   Density of Population per Market  \n0                           41443.0  \n1                           38270.0  "
     },
     "execution_count": 43,
     "metadata": {},
     "output_type": "execute_result"
    }
   ],
   "source": [
    "market2_df.insert(4,\"Density of Population per Market\", market2_df['Population'] / market2_df['Market Number'], True)\n",
    "market2_df"
   ]
  },
  {
   "cell_type": "markdown",
   "metadata": {},
   "source": [
    "### Darwin and Palmerston are very small cities, hot and monson in the wet season, easily over 40 degrees outside and raining frequently, so unfortunate, most night markets are close during the wet season. Even we knew there are a huge amount of visitors, but looks likely **the market is full now**."
   ]
  },
  {
   "cell_type": "markdown",
   "metadata": {},
   "source": [
    "### This report with a **deeper analysis potential**, including how many people usually go to the night market? how's the average income related to the probability that people would go to the night market? Or visitors' background? For now, I don't have enough dataset to analysis further. Hope it's enough for the assignment. **Thank you for your reading.**\n"
   ]
  },
  {
   "cell_type": "code",
   "execution_count": null,
   "metadata": {},
   "outputs": [],
   "source": []
  }
 ],
 "metadata": {
  "kernelspec": {
   "display_name": "Python 3.7.9 64-bit ('myenv': conda)",
   "metadata": {
    "interpreter": {
     "hash": "998658dcfcf8a395a02706f498ddc86aa6756b9b67f7f87b441900ca16fde5f8"
    }
   },
   "name": "python3"
  },
  "language_info": {
   "codemirror_mode": {
    "name": "ipython",
    "version": 3
   },
   "file_extension": ".py",
   "mimetype": "text/x-python",
   "name": "python",
   "nbconvert_exporter": "python",
   "pygments_lexer": "ipython3",
   "version": "3.7.9"
  },
  "orig_nbformat": 2
 },
 "nbformat": 4,
 "nbformat_minor": 2
}